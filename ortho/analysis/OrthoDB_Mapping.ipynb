{
 "cells": [
  {
   "cell_type": "code",
   "execution_count": 3,
   "metadata": {},
   "outputs": [],
   "source": [
    "from analyse import *"
   ]
  },
  {
   "cell_type": "markdown",
   "metadata": {},
   "source": [
    "## Initialize Objects"
   ]
  },
  {
   "cell_type": "code",
   "execution_count": 2,
   "metadata": {},
   "outputs": [],
   "source": [
    "ENS_Horse = Ensemble(\"horse_headers.txt\")\n",
    "ODB = OrthoDB()"
   ]
  },
  {
   "cell_type": "markdown",
   "metadata": {},
   "source": [
    "# <b>Processing ENSEMBL</b>"
   ]
  },
  {
   "cell_type": "markdown",
   "metadata": {},
   "source": [
    "### Read horse gene symbols"
   ]
  },
  {
   "cell_type": "code",
   "execution_count": 4,
   "metadata": {},
   "outputs": [
    {
     "name": "stdout",
     "output_type": "stream",
     "text": [
      "34410 Genes symbols found (34410 uniq) in 42747 reads\n"
     ]
    }
   ],
   "source": [
    "horse_genes_symbols = ENS_Horse.transcriptome_gene_symbols()"
   ]
  },
  {
   "cell_type": "markdown",
   "metadata": {},
   "source": [
    "### Horse Genes Description"
   ]
  },
  {
   "cell_type": "code",
   "execution_count": 5,
   "metadata": {},
   "outputs": [
    {
     "name": "stdout",
     "output_type": "stream",
     "text": [
      "37430 Genes description found (37430 uniq) in 42747 reads\n"
     ]
    }
   ],
   "source": [
    "horse_genes_descs = ENS_Horse.transcriptome_gene_description()"
   ]
  },
  {
   "cell_type": "markdown",
   "metadata": {},
   "source": [
    "# <b>Processing ODB</b>"
   ]
  },
  {
   "cell_type": "markdown",
   "metadata": {},
   "source": [
    "## ODB Protein IDs"
   ]
  },
  {
   "cell_type": "code",
   "execution_count": 6,
   "metadata": {},
   "outputs": [],
   "source": [
    "odb_genes_path = \"horse_odb10v0_genes.tab\""
   ]
  },
  {
   "cell_type": "code",
   "execution_count": 7,
   "metadata": {},
   "outputs": [
    {
     "name": "stdout",
     "output_type": "stream",
     "text": [
      "(Tax_ID 9796) 21263 prot_seq_id found (20890 uniq) in 21292 record\n"
     ]
    }
   ],
   "source": [
    "ortho_prot_ids = ODB.odb_genes_info(path= odb_genes_path, tax_id= 9796, info= \"prot_seq_id\")"
   ]
  },
  {
   "cell_type": "markdown",
   "metadata": {},
   "source": [
    "## ODB Gene Description"
   ]
  },
  {
   "cell_type": "code",
   "execution_count": 8,
   "metadata": {},
   "outputs": [
    {
     "name": "stdout",
     "output_type": "stream",
     "text": [
      "(Tax_ID 9796) 21292 description found (19360 uniq) in 21292 record\n"
     ]
    }
   ],
   "source": [
    "ortho_gene_desc = ODB.odb_genes_info(path= odb_genes_path, tax_id=9796, info= \"description\")"
   ]
  },
  {
   "cell_type": "markdown",
   "metadata": {},
   "source": [
    "## <b>Intersection between Gene Symbols and prot_ids<b>"
   ]
  },
  {
   "cell_type": "code",
   "execution_count": 9,
   "metadata": {},
   "outputs": [
    {
     "name": "stdout",
     "output_type": "stream",
     "text": [
      "There are 14916 common genes between Ensembl Genes and OrthoDB\n",
      "94.78% of Horse Genes Covered by OrthoDB\n"
     ]
    }
   ],
   "source": [
    "horseGenes_with_ortoProtID = set(horse_genes_symbols.values()).intersection(set(ortho_prot_ids.values()))\n",
    "print (\"There are %d common genes between Ensembl Genes and OrthoDB\" % (len(horseGenes_with_ortoProtID)))\n",
    "print (\"%.2f%% of Horse Genes Covered by OrthoDB\" % ((len(horseGenes_with_ortoProtID) / len(set(horse_genes_symbols.values()))) * 100))"
   ]
  },
  {
   "cell_type": "markdown",
   "metadata": {},
   "source": [
    "# <b>Analyse by description<b>"
   ]
  },
  {
   "cell_type": "code",
   "execution_count": 10,
   "metadata": {},
   "outputs": [],
   "source": [
    "from difflib import SequenceMatcher\n",
    "def similar(a, b):\n",
    "    return SequenceMatcher(None, a, b).ratio()"
   ]
  },
  {
   "cell_type": "code",
   "execution_count": 11,
   "metadata": {},
   "outputs": [],
   "source": [
    "unmatched_horse_gene_symbols = set(horse_genes_symbols.values()) - set(ortho_prot_ids.values())"
   ]
  },
  {
   "cell_type": "markdown",
   "metadata": {},
   "source": [
    "### <b>Unmatched Ensemble Transcripts IDs</b>"
   ]
  },
  {
   "cell_type": "code",
   "execution_count": 12,
   "metadata": {},
   "outputs": [],
   "source": [
    "unmatched_horse_transcripts = set()\n",
    "for transcript_id, gene_symbol in horse_genes_symbols.items():\n",
    "    if gene_symbol in unmatched_horse_gene_symbols:\n",
    "        unmatched_horse_transcripts.add(transcript_id)"
   ]
  },
  {
   "cell_type": "markdown",
   "metadata": {},
   "source": [
    "### <b>Unmatched OrthoDB OG IDs</b>"
   ]
  },
  {
   "cell_type": "code",
   "execution_count": 13,
   "metadata": {},
   "outputs": [],
   "source": [
    "unmatched_ortho_ogIds = set()\n",
    "for k,v in ortho_prot_ids.items():\n",
    "    if v not in horseGenes_with_ortoProtID:\n",
    "        unmatched_ortho_ogIds.add(k)"
   ]
  },
  {
   "cell_type": "markdown",
   "metadata": {},
   "source": [
    "### <b>Get Similarity Matching Results</b>"
   ]
  },
  {
   "cell_type": "code",
   "execution_count": 14,
   "metadata": {},
   "outputs": [],
   "source": [
    "similars = {}\n",
    "for tr_id in unmatched_horse_transcripts:\n",
    "    if tr_id not in horse_genes_descs:\n",
    "        continue\n",
    "    ensemble_description = horse_genes_descs[tr_id][:-1] # trim the end space\n",
    "    for og_id in unmatched_ortho_ogIds:\n",
    "        odb_desc = ortho_gene_desc[og_id]\n",
    "        if similar(ensemble_description, odb_desc) > 0.98:\n",
    "            similars[og_id] = [ensemble_description, odb_desc]\n",
    "            "
   ]
  },
  {
   "cell_type": "code",
   "execution_count": 15,
   "metadata": {},
   "outputs": [
    {
     "name": "stdout",
     "output_type": "stream",
     "text": [
      "135 Genes matched by description\n"
     ]
    }
   ],
   "source": [
    "print(\"%d Genes matched by description\" % (len(similars)))"
   ]
  }
 ],
 "metadata": {
  "kernelspec": {
   "display_name": "PyPy3",
   "language": "python",
   "name": "pypy"
  },
  "language_info": {
   "codemirror_mode": {
    "name": "ipython",
    "version": 3
   },
   "file_extension": ".py",
   "mimetype": "text/x-python",
   "name": "python",
   "nbconvert_exporter": "python",
   "pygments_lexer": "ipython3",
   "version": "3.5.3"
  }
 },
 "nbformat": 4,
 "nbformat_minor": 2
}
