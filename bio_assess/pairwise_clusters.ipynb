{
 "cells": [
  {
   "cell_type": "code",
   "execution_count": 1,
   "metadata": {},
   "outputs": [],
   "source": [
    "from prettytable import PrettyTable as PT"
   ]
  },
  {
   "cell_type": "markdown",
   "metadata": {},
   "source": [
    "# <b>Pairwise 1 Clusters Count kCluster->CDH </b>"
   ]
  },
  {
   "cell_type": "code",
   "execution_count": 2,
   "metadata": {},
   "outputs": [
    {
     "name": "stdout",
     "output_type": "stream",
     "text": [
      "+---------+------+-------+-----+-----+\n",
      "| kCl/CDH |  CC  |   IC  |  CM |  IM |\n",
      "+---------+------+-------+-----+-----+\n",
      "|    CC   | 9287 | 10579 | 289 | 515 |\n",
      "|    IC   | 505  | 13509 |  9  | 212 |\n",
      "|    CM   |  6   |   64  | 110 | 135 |\n",
      "|    IM   |  1   |   47  |  7  | 124 |\n",
      "+---------+------+-------+-----+-----+\n",
      "Total Clusters:  35399\n"
     ]
    }
   ],
   "source": [
    "empty_d = {\"CC\":0, \"IC\":0, \"CM\":0, \"IM\":0}\n",
    "kCl_to_CDH = {\"CC\":dict(empty_d), \"IC\":dict(empty_d), \"CM\":dict(empty_d), \"IM\":dict(empty_d)}\n",
    "with open(\"uniq_bio_assess.tsv\", 'r') as tsv:\n",
    "    next(tsv)\n",
    "    for line in tsv:\n",
    "        line = line.split()\n",
    "        kCl_ID = line[0]\n",
    "        kCl_type = line[1]\n",
    "        CDH_ID = line[2]\n",
    "        CDH_type = line[3]\n",
    "        kCl_to_CDH[kCl_type][CDH_type] += 1\n",
    "\n",
    "pr = PT()\n",
    "pr.field_names = [\"kCl/CDH\",\"CC\",\"IC\",\"CM\",\"IM\"]\n",
    "total_clusters = 0\n",
    "TYPES = [\"CC\",\"IC\",\"CM\",\"IM\"]\n",
    "for TYPE in TYPES:\n",
    "    row = []\n",
    "    for T in TYPES:\n",
    "        total_clusters += kCl_to_CDH[TYPE][T]\n",
    "        row.append(kCl_to_CDH[TYPE][T])\n",
    "    pr.add_row([TYPE]+row)\n",
    "    \n",
    "print pr\n",
    "print \"Total Clusters: \", total_clusters"
   ]
  },
  {
   "cell_type": "markdown",
   "metadata": {},
   "source": [
    "# <b>Pairwise 2 Clusters Count CDH->kCluster </b>"
   ]
  },
  {
   "cell_type": "code",
   "execution_count": 3,
   "metadata": {},
   "outputs": [
    {
     "name": "stdout",
     "output_type": "stream",
     "text": [
      "+---------+-------+-------+-----+-----+\n",
      "| CDH/kCl |   CC  |   IC  |  CM |  IM |\n",
      "+---------+-------+-------+-----+-----+\n",
      "|    CC   |  9287 |  505  |  6  |  1  |\n",
      "|    IC   | 10579 | 13509 |  64 |  47 |\n",
      "|    CM   |  289  |   9   | 110 |  7  |\n",
      "|    IM   |  515  |  212  | 135 | 124 |\n",
      "+---------+-------+-------+-----+-----+\n",
      "Total Clusters:  35399\n"
     ]
    }
   ],
   "source": [
    "empty_d = {\"CC\":0, \"IC\":0, \"CM\":0, \"IM\":0}\n",
    "CDH_to_kCl = {\"CC\":dict(empty_d), \"IC\":dict(empty_d), \"CM\":dict(empty_d), \"IM\":dict(empty_d)}\n",
    "with open(\"uniq_bio_assess.tsv\", 'r') as tsv:\n",
    "    next(tsv)\n",
    "    for line in tsv:\n",
    "        line = line.split()\n",
    "        kCl_ID = line[0]\n",
    "        kCl_type = line[1]\n",
    "        CDH_ID = line[2]\n",
    "        CDH_type = line[3]\n",
    "        CDH_to_kCl[CDH_type][kCl_type] += 1\n",
    "\n",
    "pr2 = PT()\n",
    "pr2.field_names = [\"CDH/kCl\",\"CC\",\"IC\",\"CM\",\"IM\"]\n",
    "total_clusters = 0\n",
    "TYPES = [\"CC\",\"IC\",\"CM\",\"IM\"]\n",
    "for TYPE in TYPES:\n",
    "    row = []\n",
    "    for T in TYPES:\n",
    "        total_clusters += CDH_to_kCl[TYPE][T]\n",
    "        row.append(CDH_to_kCl[TYPE][T])\n",
    "    pr2.add_row([TYPE]+row)\n",
    "    \n",
    "print pr2\n",
    "print \"Total Clusters: \", total_clusters"
   ]
  }
 ],
 "metadata": {
  "kernelspec": {
   "display_name": "Python 2",
   "language": "python",
   "name": "python2"
  },
  "language_info": {
   "codemirror_mode": {
    "name": "ipython",
    "version": 2
   },
   "file_extension": ".py",
   "mimetype": "text/x-python",
   "name": "python",
   "nbconvert_exporter": "python",
   "pygments_lexer": "ipython2",
   "version": "2.7.15rc1"
  }
 },
 "nbformat": 4,
 "nbformat_minor": 2
}
