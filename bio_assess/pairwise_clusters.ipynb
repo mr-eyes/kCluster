{
 "cells": [
  {
   "cell_type": "code",
   "execution_count": 1,
   "metadata": {},
   "outputs": [],
   "source": [
    "from prettytable import PrettyTable as PT\n",
    "import re"
   ]
  },
  {
   "cell_type": "markdown",
   "metadata": {},
   "source": [
    "# <b>Pairwise 1 Clusters Count kCluster->CDH </b>"
   ]
  },
  {
   "cell_type": "markdown",
   "metadata": {},
   "source": [
    "## Parsing clusters"
   ]
  },
  {
   "cell_type": "code",
   "execution_count": 2,
   "metadata": {},
   "outputs": [],
   "source": [
    "CDH_seqs = {}\n",
    "# Reading CDHIT transcripts to clusterID\n",
    "clstr_file = open(\"cdhit/cdhit_pc2_transcripts_80.fa.clstr\", \"r\")\n",
    "clstr_data = clstr_file.read()\n",
    "clstr_file.close()\n",
    "\n",
    "rep = {\"\\t\": \",\", \"at +/\": \"\", \"at -/\": \"\",\n",
    "       \"...\": \",\", \"nt\": \"\", \"%\": \"\", \" \": \"\"}\n",
    "rep = dict((re.escape(k), v) for k, v in rep.iteritems())\n",
    "pattern = re.compile(\"|\".join(rep.keys()))\n",
    "clstr_data = pattern.sub(lambda m: rep[re.escape(m.group(0))], clstr_data)\n",
    "all_clusters = clstr_data.split(\">Cluster\")\n",
    "\n",
    "cdhit_tr_cluster = {}\n",
    "for i in range(1, len(all_clusters), 1):\n",
    "    cluster = all_clusters[i]\n",
    "    cluster = cluster.split(\"\\n\")\n",
    "    cluster_id = cluster[0]\n",
    "    for item in cluster[1:-1]:\n",
    "        if cluster_id in CDH_seqs:\n",
    "            CDH_seqs[cluster_id] += 1\n",
    "        else:\n",
    "            CDH_seqs[cluster_id] = 1\n",
    "\n",
    "\n",
    "\"\"\"\n",
    "Parsing kCluster Clusters file\n",
    "\"\"\"\n",
    "kCl_seqs = {}\n",
    "with open(\"clusters_c66.0_66%_clusters.tsv\", \"r\") as kCL:\n",
    "    next(kCL)\n",
    "    for line in kCL:\n",
    "        cline = line.split()\n",
    "        cluster_id = cline[0]\n",
    "        no_of_seqs = len(cline[1].split(\",\"))\n",
    "        kCl_seqs[cluster_id] = no_of_seqs"
   ]
  },
  {
   "cell_type": "markdown",
   "metadata": {},
   "source": [
    "# <b>kCl -->> CDHIT</b>"
   ]
  },
  {
   "cell_type": "code",
   "execution_count": 3,
   "metadata": {},
   "outputs": [],
   "source": [
    "kCl_to_CDH = {\"CC\":dict(), \"IC\":dict(), \"CM\":dict(), \"IM\":dict()}\n",
    "CDH_to_type = {}\n",
    "with open(\"uniq_bio_assess.tsv\", 'r') as tsv:\n",
    "    next(tsv)\n",
    "    for line in tsv:\n",
    "        line = line.split()\n",
    "        kCl_ID = line[0]\n",
    "        kCl_type = line[1]\n",
    "        CDH_ID = line[2]\n",
    "        CDH_type = line[3]\n",
    "        CDH_to_type[CDH_ID] = CDH_type\n",
    "        \n",
    "        if kCl_ID in kCl_to_CDH[kCl_type]:\n",
    "            kCl_to_CDH[kCl_type][kCl_ID].append(CDH_ID)\n",
    "        else:\n",
    "            kCl_to_CDH[kCl_type][kCl_ID] = [CDH_ID]"
   ]
  },
  {
   "cell_type": "code",
   "execution_count": 4,
   "metadata": {},
   "outputs": [],
   "source": [
    "empty_d = {\"CC\":0, \"IC\":0, \"CM\":0, \"IM\":0}\n",
    "kCl_to_CDH_clstrs = {\"CC\":dict(empty_d), \"IC\":dict(empty_d), \"CM\":dict(empty_d), \"IM\":dict(empty_d)}\n",
    "\n",
    "summary = PT()\n",
    "summary.field_names = [\"kCl Type\", \"kCluster\", \"CDHIT\", \"kCluster Seqs\", \"CDHIT Seqs\"]\n",
    "summary_total=[\"Total\", 0, 0, 0, 0]\n",
    "\n",
    "for TYPE in [\"CC\",\"IC\",\"IM\",\"CM\"]:\n",
    "    values_len = 0\n",
    "    all_vals = set()\n",
    "    keys_len = 0\n",
    "    kCL_total_seqs = 0\n",
    "    CDH_total_seqs = 0\n",
    "    for key, val in kCl_to_CDH[TYPE].iteritems():\n",
    "        keys_len += 1\n",
    "        kCL_total_seqs += kCl_seqs[key]\n",
    "        \n",
    "        for _CDH_cluster in val:\n",
    "            all_vals.add(_CDH_cluster)\n",
    "\n",
    "            \n",
    "    for _CDH_cluster in all_vals:\n",
    "        _cdh_type = CDH_to_type[_CDH_cluster]\n",
    "        kCl_to_CDH_clstrs[TYPE][_cdh_type] += 1\n",
    "        values_len += 1\n",
    "        CDH_total_seqs += CDH_seqs[_CDH_cluster]\n",
    "        \n",
    "    summary.add_row([TYPE, keys_len, values_len,kCL_total_seqs,CDH_total_seqs])\n",
    "    summary_total[1] += keys_len\n",
    "    summary_total[2] += values_len\n",
    "    summary_total[3] += kCL_total_seqs\n",
    "    summary_total[4] += CDH_total_seqs\n",
    "\n",
    "summary.add_row([\"---\",\"---\",\"---\",\"---\",\"---\"])\n",
    "summary.add_row(summary_total)"
   ]
  },
  {
   "cell_type": "markdown",
   "metadata": {},
   "source": [
    "## Pairwise construction"
   ]
  },
  {
   "cell_type": "code",
   "execution_count": 5,
   "metadata": {},
   "outputs": [],
   "source": [
    "kClToCDHIT = PT()\n",
    "kClToCDHIT.field_names = [\"kCl/CDH\",\"CC\",\"IC\",\"CM\",\"IM\"]\n",
    "total_clusters1 = 0\n",
    "TYPES = [\"CC\",\"IC\",\"CM\",\"IM\"]\n",
    "for TYPE in TYPES:\n",
    "    row = []\n",
    "    for T in TYPES:\n",
    "        total_clusters1 += kCl_to_CDH_clstrs[TYPE][T]\n",
    "        row.append(kCl_to_CDH_clstrs[TYPE][T])\n",
    "    kClToCDHIT.add_row([TYPE]+row)"
   ]
  },
  {
   "cell_type": "markdown",
   "metadata": {},
   "source": [
    "# <b>CDH -->> kCluster </b>"
   ]
  },
  {
   "cell_type": "code",
   "execution_count": 6,
   "metadata": {},
   "outputs": [],
   "source": [
    "CDH_to_kCl = {\"CC\":dict(), \"IC\":dict(), \"CM\":dict(), \"IM\":dict()}\n",
    "kCl_to_type = {}\n",
    "with open(\"uniq_bio_assess.tsv\", 'r') as tsv:\n",
    "    next(tsv)\n",
    "    for line in tsv:\n",
    "        line = line.split()\n",
    "        kCl_ID = line[0]\n",
    "        kCl_type = line[1]\n",
    "        CDH_ID = line[2]\n",
    "        CDH_type = line[3]\n",
    "        kCl_to_type[kCl_ID] = kCl_type\n",
    "        \n",
    "        \n",
    "        if CDH_ID in CDH_to_kCl[kCl_type]:\n",
    "            CDH_to_kCl[CDH_type][CDH_ID].append(kCl_ID)\n",
    "        else:\n",
    "            CDH_to_kCl[CDH_type][CDH_ID] = [kCl_ID]"
   ]
  },
  {
   "cell_type": "code",
   "execution_count": 7,
   "metadata": {},
   "outputs": [],
   "source": [
    "empty_d = {\"CC\":0, \"IC\":0, \"CM\":0, \"IM\":0}\n",
    "CDH_to_kCl_clstrs = {\"CC\":dict(empty_d), \"IC\":dict(empty_d), \"CM\":dict(empty_d), \"IM\":dict(empty_d)}\n",
    "\n",
    "summary2 = PT()\n",
    "summary2.field_names = [\"CDHIT Type\", \"CDHIT\", \"kCluster\", \"CDHIT Seqs\", \"kCluster Seqs\"]\n",
    "\n",
    "summary2_total=[\"Total\", 0, 0, 0, 0]\n",
    "for TYPE in [\"CC\",\"IC\",\"IM\",\"CM\"]:\n",
    "    values_len = 0\n",
    "    all_vals = set()\n",
    "    keys_len = 0\n",
    "    all_keys = set()\n",
    "    kCL_total_seqs = 0\n",
    "    CDH_total_seqs = 0\n",
    "    \n",
    "    for key, val in CDH_to_kCl[TYPE].iteritems():\n",
    "        all_keys.add(key)\n",
    "        \n",
    "        for _kCl_cluster in val:\n",
    "            all_vals.add(_kCl_cluster)\n",
    "    \n",
    "    for _kCl_cluster in all_vals:\n",
    "        values_len += 1\n",
    "        _kCl_type = kCl_to_type[_kCl_cluster]\n",
    "        CDH_to_kCl_clstrs[TYPE][_kCl_type] += 1\n",
    "        kCL_total_seqs += kCl_seqs[_kCl_cluster]\n",
    "    \n",
    "    for key in all_keys:\n",
    "        keys_len += 1\n",
    "        CDH_total_seqs += CDH_seqs[key]\n",
    "        \n",
    "    \n",
    "    summary2.add_row([TYPE, keys_len, values_len,CDH_total_seqs,kCL_total_seqs])\n",
    "    summary2_total[1] += keys_len\n",
    "    summary2_total[2] += values_len\n",
    "    summary2_total[3] += CDH_total_seqs\n",
    "    summary2_total[4] += kCL_total_seqs\n",
    "\n",
    "summary2.add_row([\"---\",\"---\",\"---\",\"---\",\"---\"])\n",
    "summary2.add_row(summary2_total)"
   ]
  },
  {
   "cell_type": "code",
   "execution_count": 8,
   "metadata": {},
   "outputs": [],
   "source": [
    "CDTokCl = PT()\n",
    "CDTokCl.field_names = [\"CDH/kCl\",\"CC\",\"IC\",\"CM\",\"IM\"]\n",
    "total_clusters2 = 0\n",
    "TYPES = [\"CC\",\"IC\",\"CM\",\"IM\"]\n",
    "for TYPE in TYPES:\n",
    "    row = []\n",
    "    for T in TYPES:\n",
    "        total_clusters2 += CDH_to_kCl_clstrs[TYPE][T]\n",
    "        row.append(CDH_to_kCl_clstrs[TYPE][T])\n",
    "    CDTokCl.add_row([TYPE]+row)"
   ]
  },
  {
   "cell_type": "markdown",
   "metadata": {},
   "source": [
    "## Printing Summaries"
   ]
  },
  {
   "cell_type": "code",
   "execution_count": 9,
   "metadata": {},
   "outputs": [
    {
     "name": "stdout",
     "output_type": "stream",
     "text": [
      "kCl --->>> CDHIT\n",
      "Summary\n",
      "+----------+----------+-------+---------------+------------+\n",
      "| kCl Type | kCluster | CDHIT | kCluster Seqs | CDHIT Seqs |\n",
      "+----------+----------+-------+---------------+------------+\n",
      "|    CC    |  14101   | 20196 |     50383     |   51104    |\n",
      "|    IC    |  10246   | 13321 |     30081     |   30563    |\n",
      "|    IM    |    88    |  173  |      687      |    784     |\n",
      "|    CM    |   188    |  304  |      1184     |    1488    |\n",
      "|   ---    |   ---    |  ---  |      ---      |    ---     |\n",
      "|  Total   |  24623   | 33994 |     82335     |   83939    |\n",
      "+----------+----------+-------+---------------+------------+\n",
      "~~~~~~~~~~~~~~~~~~~~~~~~~~~~~~~~~~~~~~~~~~~~~~~~~~~~~~~~~~~~~~~~~\n",
      "Pairwise Matrix\n",
      "+---------+------+-------+-----+-----+\n",
      "| kCl/CDH |  CC  |   IC  |  CM |  IM |\n",
      "+---------+------+-------+-----+-----+\n",
      "|    CC   | 9264 | 10541 | 127 | 264 |\n",
      "|    IC   | 257  | 12927 |  6  | 131 |\n",
      "|    CM   |  6   |   64  | 106 | 128 |\n",
      "|    IM   |  1   |   47  |  5  | 120 |\n",
      "+---------+------+-------+-----+-----+\n",
      "Total:  33994\n",
      "\n",
      "\n",
      "\n",
      "CDHIT --->>> kCl\n",
      "Summary\n",
      "+------------+-------+----------+------------+---------------+\n",
      "| CDHIT Type | CDHIT | kCluster | CDHIT Seqs | kCluster Seqs |\n",
      "+------------+-------+----------+------------+---------------+\n",
      "|     CC     |  9527 |   9526   |   23770    |     23564     |\n",
      "|     IC     | 23544 |  13994   |   54874    |     56305     |\n",
      "|     IM     |  481  |   405    |    2743    |      2320     |\n",
      "|     CM     |  213  |   222    |    948     |      624      |\n",
      "|    ---     |  ---  |   ---    |    ---     |      ---      |\n",
      "|   Total    | 33765 |  24147   |   82335    |     82813     |\n",
      "+------------+-------+----------+------------+---------------+\n",
      "~~~~~~~~~~~~~~~~~~~~~~~~~~~~~~~~~~~~~~~~~~~~~~~~~~~~~~~~~~~~~~~~~\n",
      "Pairwise Matrix\n",
      "+---------+------+------+----+----+\n",
      "| CDH/kCl |  CC  |  IC  | CM | IM |\n",
      "+---------+------+------+----+----+\n",
      "|    CC   | 9262 | 257  | 6  | 1  |\n",
      "|    IC   | 4316 | 9611 | 39 | 28 |\n",
      "|    CM   | 124  |  4   | 91 | 3  |\n",
      "|    IM   | 190  |  80  | 59 | 76 |\n",
      "+---------+------+------+----+----+\n",
      "Total:  24147\n"
     ]
    }
   ],
   "source": [
    "print \"kCl --->>> CDHIT\"\n",
    "print \"Summary\\n\",summary\n",
    "print \"~\" * 65\n",
    "print \"Pairwise Matrix\\n\",kClToCDHIT\n",
    "print \"Total: \", total_clusters1\n",
    "print \"\\n\\n\"\n",
    "print \"CDHIT --->>> kCl\"\n",
    "print \"Summary\\n\",summary2\n",
    "print \"~\" * 65\n",
    "print \"Pairwise Matrix\\n\",CDTokCl\n",
    "print \"Total: \", total_clusters2"
   ]
  }
 ],
 "metadata": {
  "kernelspec": {
   "display_name": "Python 2",
   "language": "python",
   "name": "python2"
  },
  "language_info": {
   "codemirror_mode": {
    "name": "ipython",
    "version": 2
   },
   "file_extension": ".py",
   "mimetype": "text/x-python",
   "name": "python",
   "nbconvert_exporter": "python",
   "pygments_lexer": "ipython2",
   "version": "2.7.15rc1"
  }
 },
 "nbformat": 4,
 "nbformat_minor": 2
}
