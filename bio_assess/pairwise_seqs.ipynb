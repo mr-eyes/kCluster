{
 "cells": [
  {
   "cell_type": "code",
   "execution_count": 1,
   "metadata": {},
   "outputs": [],
   "source": [
    "from prettytable import PrettyTable as PT\n",
    "import re"
   ]
  },
  {
   "cell_type": "markdown",
   "metadata": {},
   "source": [
    "# Parsing seqs files"
   ]
  },
  {
   "cell_type": "code",
   "execution_count": 2,
   "metadata": {},
   "outputs": [],
   "source": [
    "CDH_seqs = {}\n",
    "# Reading CDHIT transcripts to clusterID\n",
    "clstr_file = open(\"cdhit/cdhit_pc2_transcripts_80.fa.clstr\", \"r\")\n",
    "clstr_data = clstr_file.read()\n",
    "clstr_file.close()\n",
    "\n",
    "rep = {\"\\t\": \",\", \"at +/\": \"\", \"at -/\": \"\",\n",
    "       \"...\": \",\", \"nt\": \"\", \"%\": \"\", \" \": \"\"}\n",
    "rep = dict((re.escape(k), v) for k, v in rep.iteritems())\n",
    "pattern = re.compile(\"|\".join(rep.keys()))\n",
    "clstr_data = pattern.sub(lambda m: rep[re.escape(m.group(0))], clstr_data)\n",
    "all_clusters = clstr_data.split(\">Cluster\")\n",
    "\n",
    "cdhit_tr_cluster = {}\n",
    "for i in range(1, len(all_clusters), 1):\n",
    "    cluster = all_clusters[i]\n",
    "    cluster = cluster.split(\"\\n\")\n",
    "    cluster_id = cluster[0]\n",
    "    for item in cluster[1:-1]:\n",
    "        if cluster_id in CDH_seqs:\n",
    "            CDH_seqs[cluster_id] += 1\n",
    "        else:\n",
    "            CDH_seqs[cluster_id] = 1\n",
    "\n",
    "\n",
    "\"\"\"\n",
    "Parsing kCluster Clusters file\n",
    "\"\"\"\n",
    "kCl_seqs = {}\n",
    "with open(\"clusters_c66.0_66%_clusters.tsv\", \"r\") as kCL:\n",
    "    next(kCL)\n",
    "    for line in kCL:\n",
    "        cline = line.split()\n",
    "        cluster_id = cline[0]\n",
    "        no_of_seqs = len(cline[1].split(\",\"))\n",
    "        kCl_seqs[cluster_id] = no_of_seqs"
   ]
  },
  {
   "cell_type": "markdown",
   "metadata": {},
   "source": [
    "## <b>Pairwise Seqs Count : kCl -> CDHIT & CDHIT -> kCl</b>"
   ]
  },
  {
   "cell_type": "code",
   "execution_count": 3,
   "metadata": {},
   "outputs": [],
   "source": [
    "empty_d = {\"CC\":0, \"IC\":0, \"CM\":0, \"IM\":0}\n",
    "kCl_to_CDH = {\"CC\":dict(empty_d), \"IC\":dict(empty_d), \"CM\":dict(empty_d), \"IM\":dict(empty_d)}\n",
    "CDH_to_kCl = {\"CC\":dict(empty_d), \"IC\":dict(empty_d), \"CM\":dict(empty_d), \"IM\":dict(empty_d)} # For CDHIT -> kCl\n",
    "with open(\"uniq_bio_assess.tsv\", 'r') as tsv:\n",
    "    next(tsv)\n",
    "    for line in tsv:\n",
    "        line = line.split()\n",
    "        kCl_ID = line[0]\n",
    "        kCl_type = line[1]\n",
    "        CDH_ID = line[2]\n",
    "        CDH_type = line[3]\n",
    "        kCl_to_CDH[kCl_type][CDH_type] += kCl_seqs[kCl_ID]\n",
    "        CDH_to_kCl[CDH_type][kCl_type] += CDH_seqs[CDH_ID] # For CDHIT -> kCl"
   ]
  },
  {
   "cell_type": "markdown",
   "metadata": {},
   "source": [
    "## Generating Sumary tables"
   ]
  },
  {
   "cell_type": "code",
   "execution_count": 4,
   "metadata": {},
   "outputs": [],
   "source": [
    "kClToCDHIT = PT()\n",
    "kClToCDHIT.field_names = [\"kCl/CDH\",\"CC\",\"IC\",\"CM\",\"IM\"]\n",
    "total_clusters1 = 0\n",
    "TYPES = [\"CC\",\"IC\",\"CM\",\"IM\"]\n",
    "for TYPE in TYPES:\n",
    "    row = []\n",
    "    for T in TYPES:\n",
    "        total_clusters1 += kCl_to_CDH[TYPE][T]\n",
    "        row.append(kCl_to_CDH[TYPE][T])\n",
    "    kClToCDHIT.add_row([TYPE]+row)"
   ]
  },
  {
   "cell_type": "code",
   "execution_count": 5,
   "metadata": {},
   "outputs": [],
   "source": [
    "CDHTokCl = PT()\n",
    "CDHTokCl.field_names = [\"CDH/kCl\",\"CC\",\"IC\",\"CM\",\"IM\"]\n",
    "total_clusters2 = 0\n",
    "TYPES = [\"CC\",\"IC\",\"CM\",\"IM\"]\n",
    "for TYPE in TYPES:\n",
    "    row = []\n",
    "    for T in TYPES:\n",
    "        total_clusters2 += CDH_to_kCl[TYPE][T]\n",
    "        row.append(CDH_to_kCl[TYPE][T])\n",
    "    CDHTokCl.add_row([TYPE]+row)\n"
   ]
  },
  {
   "cell_type": "markdown",
   "metadata": {},
   "source": [
    "## <hr> Summaries"
   ]
  },
  {
   "cell_type": "code",
   "execution_count": 6,
   "metadata": {},
   "outputs": [
    {
     "name": "stdout",
     "output_type": "stream",
     "text": [
      "kCl -> CDHIT\n",
      "+---------+-------+-------+-----+------+\n",
      "| kCl/CDH |   CC  |   IC  |  CM |  IM  |\n",
      "+---------+-------+-------+-----+------+\n",
      "|    CC   | 23032 | 75668 | 429 | 1951 |\n",
      "|    IC   |  1152 | 71426 |  10 | 715  |\n",
      "|    CM   |   28  |  729  | 495 | 1402 |\n",
      "|    IM   |   7   |  719  |  26 | 1596 |\n",
      "+---------+-------+-------+-----+------+\n",
      "Total Seqs:  179385\n",
      "~~~~~~~~~~~~~~~~~~~~~~~~~~~~~~~~~~~~~~~~~~~~~~~~~~~~~~~~~~~~~~~~~ \n",
      "\n",
      "CDHIT -> kCl\n",
      "+---------+-------+-------+-----+-----+\n",
      "| CDH/kCl |   CC  |   IC  |  CM |  IM |\n",
      "+---------+-------+-------+-----+-----+\n",
      "|    CC   | 22861 |  2027 |  10 |  3  |\n",
      "|    IC   | 26396 | 31771 |  80 |  66 |\n",
      "|    CM   |  1376 |   45  | 625 |  43 |\n",
      "|    IM   |  3410 |  1419 | 944 | 707 |\n",
      "+---------+-------+-------+-----+-----+\n",
      "Total Seqs:  91783\n"
     ]
    }
   ],
   "source": [
    "print \"kCl -> CDHIT\\n\", kClToCDHIT\n",
    "print \"Total Seqs: \", total_clusters1\n",
    "print \"~\" * 65, \"\\n\"\n",
    "print \"CDHIT -> kCl\\n\", CDHTokCl\n",
    "print \"Total Seqs: \", total_clusters2"
   ]
  }
 ],
 "metadata": {
  "kernelspec": {
   "display_name": "Python 2",
   "language": "python",
   "name": "python2"
  },
  "language_info": {
   "codemirror_mode": {
    "name": "ipython",
    "version": 2
   },
   "file_extension": ".py",
   "mimetype": "text/x-python",
   "name": "python",
   "nbconvert_exporter": "python",
   "pygments_lexer": "ipython2",
   "version": "2.7.15rc1"
  }
 },
 "nbformat": 4,
 "nbformat_minor": 2
}
