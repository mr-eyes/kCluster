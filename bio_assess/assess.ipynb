{
 "cells": [
  {
   "cell_type": "code",
   "execution_count": 1,
   "metadata": {},
   "outputs": [],
   "source": [
    "from prettytable import PrettyTable as PT\n",
    "import re"
   ]
  },
  {
   "cell_type": "markdown",
   "metadata": {},
   "source": [
    "## <b> Parsing CDHIT CLSTR FILE </br>"
   ]
  },
  {
   "cell_type": "code",
   "execution_count": 2,
   "metadata": {},
   "outputs": [],
   "source": [
    "CDH_seqs = {}\n",
    "# Reading CDHIT transcripts to clusterID\n",
    "clstr_file = open(\"cdhit/cdhit_pc2_transcripts_80.fa.clstr\", \"r\")\n",
    "clstr_data = clstr_file.read()\n",
    "clstr_file.close()\n",
    "\n",
    "rep = {\"\\t\": \",\", \"at +/\": \"\", \"at -/\": \"\",\"...\": \",\", \"nt\": \"\", \"%\": \"\", \" \": \"\"}\n",
    "rep = dict((re.escape(k), v) for k, v in rep.iteritems())\n",
    "pattern = re.compile(\"|\".join(rep.keys()))\n",
    "clstr_data = pattern.sub(lambda m: rep[re.escape(m.group(0))], clstr_data)\n",
    "all_clusters = clstr_data.split(\">Cluster\")\n",
    "\n",
    "cdhit_tr_cluster = {}\n",
    "for i in range(1, len(all_clusters), 1):\n",
    "    cluster = all_clusters[i]\n",
    "    cluster = cluster.split(\"\\n\")\n",
    "    cluster_id = cluster[0]\n",
    "    for item in cluster[1:-1]:\n",
    "        if cluster_id in CDH_seqs:\n",
    "            CDH_seqs[cluster_id] += 1\n",
    "        else:\n",
    "            CDH_seqs[cluster_id] = 1"
   ]
  },
  {
   "cell_type": "markdown",
   "metadata": {},
   "source": [
    "## <b>Parsing kCluster Clusters file</b>"
   ]
  },
  {
   "cell_type": "code",
   "execution_count": 3,
   "metadata": {},
   "outputs": [],
   "source": [
    "kCl_seqs = {}\n",
    "with open(\"clusters_c66.0_66%_clusters.tsv\", \"r\") as kCL:\n",
    "    next(kCL)\n",
    "    for line in kCL:\n",
    "        cline = line.split()\n",
    "        cluster_id = cline[0]\n",
    "        no_of_seqs = len(cline[1].split(\",\"))\n",
    "        kCl_seqs[cluster_id] = no_of_seqs"
   ]
  },
  {
   "cell_type": "markdown",
   "metadata": {},
   "source": [
    "## <b> Constructing kCL to CDH </b>"
   ]
  },
  {
   "cell_type": "code",
   "execution_count": 4,
   "metadata": {},
   "outputs": [],
   "source": [
    "kCl_to_CDH = {\"CC\":dict(), \"IC\":dict(), \"CM\":dict(), \"IM\":dict()}\n",
    "with open(\"uniq_bio_assess.tsv\", 'r') as tsv:\n",
    "    next(tsv)\n",
    "    for line in tsv:\n",
    "        line = line.split()\n",
    "        kCl_ID = line[0]\n",
    "        kCl_type = line[1]\n",
    "        CDH_ID = line[2]\n",
    "        CDH_type = line[3]\n",
    "        \n",
    "        if kCl_ID in kCl_to_CDH[kCl_type]:\n",
    "            kCl_to_CDH[kCl_type][kCl_ID].append(CDH_ID)\n",
    "        else:\n",
    "            kCl_to_CDH[kCl_type][kCl_ID] = [CDH_ID]"
   ]
  },
  {
   "cell_type": "markdown",
   "metadata": {},
   "source": [
    "## <b>CDHIT To kCluster</b>"
   ]
  },
  {
   "cell_type": "code",
   "execution_count": 5,
   "metadata": {},
   "outputs": [],
   "source": [
    "CDH_to_kCl = {\"CC\":dict(), \"IC\":dict(), \"CM\":dict(), \"IM\":dict()}\n",
    "with open(\"uniq_bio_assess.tsv\", 'r') as tsv:\n",
    "    next(tsv)\n",
    "    for line in tsv:\n",
    "        line = line.split()\n",
    "        kCl_ID = line[0]\n",
    "        kCl_type = line[1]\n",
    "        CDH_ID = line[2]\n",
    "        CDH_type = line[3]\n",
    "        \n",
    "        if CDH_ID in CDH_to_kCl[kCl_type]:\n",
    "            CDH_to_kCl[CDH_type][CDH_ID].append(kCl_ID)\n",
    "        else:\n",
    "            CDH_to_kCl[CDH_type][CDH_ID] = [kCl_ID]"
   ]
  },
  {
   "cell_type": "markdown",
   "metadata": {},
   "source": [
    "## kCl -> CDHIT Summary"
   ]
  },
  {
   "cell_type": "code",
   "execution_count": 6,
   "metadata": {},
   "outputs": [],
   "source": [
    "summary = PT()\n",
    "summary.field_names = [\"kCl Type\", \"kCluster\", \"CDHIT\", \"kCluster Seqs\", \"CDHIT Seqs\"]\n",
    "summary_total=[\"Total\", 0, 0, 0, 0]\n",
    "\n",
    "for TYPE in [\"CC\",\"IC\",\"IM\",\"CM\"]:\n",
    "    values_len = 0\n",
    "    all_vals = set()\n",
    "    keys_len = 0\n",
    "    kCL_total_seqs = 0\n",
    "    CDH_total_seqs = 0\n",
    "    for key, val in kCl_to_CDH[TYPE].iteritems():\n",
    "        keys_len += 1\n",
    "        kCL_total_seqs += kCl_seqs[key]\n",
    "        \n",
    "        for _CDH_cluster in val:\n",
    "            all_vals.add(_CDH_cluster)\n",
    "\n",
    "            \n",
    "    for _CDH_cluster in all_vals:\n",
    "        values_len += 1\n",
    "        CDH_total_seqs += CDH_seqs[_CDH_cluster]\n",
    "        \n",
    "    summary.add_row([TYPE, keys_len, values_len,kCL_total_seqs,CDH_total_seqs])\n",
    "    summary_total[1] += keys_len\n",
    "    summary_total[2] += values_len\n",
    "    summary_total[3] += kCL_total_seqs\n",
    "    summary_total[4] += CDH_total_seqs\n",
    "\n",
    "summary.add_row([\"---\",\"---\",\"---\",\"---\",\"---\"])\n",
    "summary.add_row(summary_total)"
   ]
  },
  {
   "cell_type": "markdown",
   "metadata": {},
   "source": [
    "## CDHIT -> kCl Summary"
   ]
  },
  {
   "cell_type": "code",
   "execution_count": 7,
   "metadata": {},
   "outputs": [],
   "source": [
    "summary2 = PT()\n",
    "summary2.field_names = [\"CDHIT Type\", \"CDHIT\", \"kCluster\", \"CDHIT Seqs\", \"kCluster Seqs\"]\n",
    "\n",
    "summary2_total=[\"Total\", 0, 0, 0, 0]\n",
    "for TYPE in [\"CC\",\"IC\",\"IM\",\"CM\"]:\n",
    "    values_len = 0\n",
    "    all_vals = set()\n",
    "    keys_len = 0\n",
    "    all_keys = set()\n",
    "    kCL_total_seqs = 0\n",
    "    CDH_total_seqs = 0\n",
    "    \n",
    "    for key, val in CDH_to_kCl[TYPE].iteritems():\n",
    "        all_keys.add(key)\n",
    "        \n",
    "        for _kCl_cluster in val:\n",
    "            all_vals.add(_kCl_cluster)\n",
    "    \n",
    "    for _kCl_cluster in all_vals:\n",
    "        values_len += 1    \n",
    "        kCL_total_seqs += kCl_seqs[_kCl_cluster]\n",
    "    \n",
    "    for key in all_keys:\n",
    "        keys_len += 1\n",
    "        CDH_total_seqs += CDH_seqs[key]\n",
    "        \n",
    "    \n",
    "    summary2.add_row([TYPE, keys_len, values_len,CDH_total_seqs,kCL_total_seqs])\n",
    "    summary2_total[1] += keys_len\n",
    "    summary2_total[2] += values_len\n",
    "    summary2_total[3] += CDH_total_seqs\n",
    "    summary2_total[4] += kCL_total_seqs\n",
    "\n",
    "summary2.add_row([\"---\",\"---\",\"---\",\"---\",\"---\"])\n",
    "summary2.add_row(summary2_total)"
   ]
  },
  {
   "cell_type": "code",
   "execution_count": 8,
   "metadata": {},
   "outputs": [
    {
     "name": "stdout",
     "output_type": "stream",
     "text": [
      "+----------+----------+-------+---------------+------------+\n",
      "| kCl Type | kCluster | CDHIT | kCluster Seqs | CDHIT Seqs |\n",
      "+----------+----------+-------+---------------+------------+\n",
      "|    CC    |  14101   | 20196 |     50383     |   51104    |\n",
      "|    IC    |  10246   | 13321 |     30081     |   30563    |\n",
      "|    IM    |    88    |  173  |      687      |    784     |\n",
      "|    CM    |   188    |  304  |      1184     |    1488    |\n",
      "|   ---    |   ---    |  ---  |      ---      |    ---     |\n",
      "|  Total   |  24623   | 33994 |     82335     |   83939    |\n",
      "+----------+----------+-------+---------------+------------+\n",
      "~~~~~~~~~~~~~~~~~~~~~~~~~~~~~~~~~~~~~~~~~~~~~~~~~~~~~~~~~~~~\n",
      "+------------+-------+----------+------------+---------------+\n",
      "| CDHIT Type | CDHIT | kCluster | CDHIT Seqs | kCluster Seqs |\n",
      "+------------+-------+----------+------------+---------------+\n",
      "|     CC     |  9527 |   9526   |   23770    |     23564     |\n",
      "|     IC     | 23544 |  13994   |   54874    |     56305     |\n",
      "|     IM     |  481  |   405    |    2743    |      2320     |\n",
      "|     CM     |  213  |   222    |    948     |      624      |\n",
      "|    ---     |  ---  |   ---    |    ---     |      ---      |\n",
      "|   Total    | 33765 |  24147   |   82335    |     82813     |\n",
      "+------------+-------+----------+------------+---------------+\n"
     ]
    }
   ],
   "source": [
    "print(summary)\n",
    "print(\"~\"*60)\n",
    "print(summary2)"
   ]
  },
  {
   "cell_type": "markdown",
   "metadata": {},
   "source": [
    "<hr>"
   ]
  },
  {
   "cell_type": "markdown",
   "metadata": {},
   "source": [
    "### <i>Assertions</i>\n",
    "<ul>\n",
    "<li>CDHIT Clusters: 33765</li>\n",
    "<li>kClusters Clusters: 24623</li>\n",
    "<li>No. Of Seqs: 82335</li>\n",
    "</ul>"
   ]
  }
 ],
 "metadata": {
  "kernelspec": {
   "display_name": "Python 2",
   "language": "python",
   "name": "python2"
  },
  "language_info": {
   "codemirror_mode": {
    "name": "ipython",
    "version": 2
   },
   "file_extension": ".py",
   "mimetype": "text/x-python",
   "name": "python",
   "nbconvert_exporter": "python",
   "pygments_lexer": "ipython2",
   "version": "2.7.15rc1"
  }
 },
 "nbformat": 4,
 "nbformat_minor": 2
}
