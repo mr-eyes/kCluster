{
 "cells": [
  {
   "cell_type": "markdown",
   "metadata": {},
   "source": [
    "# Important Functions"
   ]
  },
  {
   "cell_type": "code",
   "execution_count": 1,
   "metadata": {},
   "outputs": [],
   "source": [
    "def mask(kSize, Q):\n",
    "    # Best performance mask generation function\n",
    "    return (~(-1<<Q*2)) << (kSize*2 - Q*2)"
   ]
  },
  {
   "cell_type": "code",
   "execution_count": 2,
   "metadata": {},
   "outputs": [],
   "source": [
    "# bitmask creation function to generate mask for bits matching \n",
    "def mask2(kSize, Q):\n",
    "    Q *= 2\n",
    "    no_of_bits = kSize * 2 \n",
    "    shift_value = 2**(Q) - 1\n",
    "    return shift_value << (no_of_bits-Q)"
   ]
  },
  {
   "cell_type": "code",
   "execution_count": 3,
   "metadata": {},
   "outputs": [],
   "source": [
    "# Function to match 2 kmers with common first Q*2 bits or First Q Chars\n",
    "# Return bool value, True if match, False if not\n",
    "def matchingKmers(kmer1_int, kmer2_int, kSize, Q):\n",
    "    msk = (~(-1<<Q*2)) << (kSize*2 - Q*2)\n",
    "    return ((kmer1_int ^ kmer2_int) & msk == 0)"
   ]
  },
  {
   "cell_type": "code",
   "execution_count": 4,
   "metadata": {},
   "outputs": [],
   "source": [
    "# Matching with pregiven match\n",
    "def matching(kmer1_int, kmer2_int, mask):\n",
    "    return ((kmer1_int ^ kmer2_int) & mask == 0)"
   ]
  },
  {
   "cell_type": "code",
   "execution_count": 5,
   "metadata": {},
   "outputs": [],
   "source": [
    "# Mimic the function in kProcessor of coversion from str_to_int\n",
    "def str_to_int(kmer):\n",
    "    _map = {\"A\":0, \"C\":1, \"T\":2, \"G\":3}\n",
    "    strint = 0\n",
    "    for n in kmer:\n",
    "        curr = _map[n]\n",
    "        strint = strint | curr\n",
    "        strint = strint << 2\n",
    "        \n",
    "    return strint >> 2\n",
    "\n",
    "# Mimic the function in kProcessor of coversion from int_to_str\n",
    "def int_to_str(kmer, kSize):\n",
    "    _map = {0: 'A', 1: 'C', 2: 'T', 3: 'G'}\n",
    "    kmer_str = \"\"\n",
    "    for i in range(kSize, 0, -1):\n",
    "        base = (kmer >> (i*2-2)) & 3\n",
    "        ch = _map[base]\n",
    "        kmer_str += ch\n",
    "    \n",
    "    return kmer_str"
   ]
  },
  {
   "cell_type": "code",
   "execution_count": 6,
   "metadata": {},
   "outputs": [],
   "source": [
    "kmer1 = \"TAAAATAACTGTCACATCTTA\"\n",
    "kmer2 = \"TAAAAGGAATCTAGTTTGTCA\"\n",
    "kmer1_int = str_to_int(kmer1)\n",
    "kmer2_int = str_to_int(kmer2)"
   ]
  },
  {
   "cell_type": "code",
   "execution_count": 7,
   "metadata": {},
   "outputs": [
    {
     "name": "stdout",
     "output_type": "stream",
     "text": [
      "396 ns ± 23.2 ns per loop (mean ± std. dev. of 7 runs, 1000000 loops each)\n"
     ]
    }
   ],
   "source": [
    "%%timeit\n",
    "matchingKmers(kmer1_int, kmer2_int, 21, 5)"
   ]
  }
 ],
 "metadata": {
  "kernelspec": {
   "display_name": "Python 3",
   "language": "python",
   "name": "python3"
  },
  "language_info": {
   "codemirror_mode": {
    "name": "ipython",
    "version": 3
   },
   "file_extension": ".py",
   "mimetype": "text/x-python",
   "name": "python",
   "nbconvert_exporter": "python",
   "pygments_lexer": "ipython3",
   "version": "3.6.7"
  }
 },
 "nbformat": 4,
 "nbformat_minor": 2
}
