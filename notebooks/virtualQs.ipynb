{
 "cells": [
  {
   "cell_type": "markdown",
   "metadata": {},
   "source": [
    "## Qs Construction"
   ]
  },
  {
   "cell_type": "code",
   "execution_count": 45,
   "metadata": {},
   "outputs": [],
   "source": [
    "import kProcessor as kp\n",
    "import random\n",
    "import hashlib"
   ]
  },
  {
   "cell_type": "code",
   "execution_count": 119,
   "metadata": {},
   "outputs": [],
   "source": [
    "# Mimic the function in kProcessor of coversion from str_to_int\n",
    "def str_to_int(kmer):\n",
    "    _map = {\"A\":0, \"C\":1, \"T\":2, \"G\":3}\n",
    "    strint = 0\n",
    "    for n in kmer:\n",
    "        curr = _map[n]\n",
    "        strint = strint | curr\n",
    "        strint = strint << 2\n",
    "        \n",
    "    return strint >> 2\n",
    "\n",
    "def int_to_str(kmer, kSize):\n",
    "    _map = {0: 'A', 1: 'C', 2: 'T', 3: 'G'}\n",
    "    kmer_str = \"\"\n",
    "    for i in range(kSize, 0, -1):\n",
    "        base = (kmer >> (i*2-2)) & 3\n",
    "        ch = _map[base]\n",
    "        kmer_str += ch\n",
    "    \n",
    "    return kmer_str\n",
    "\n",
    "# Function to match 2 kmers with common first Q*2 bits or First Q Chars\n",
    "# Return bool value, True if match, False if not\n",
    "def matchingKmers(kmer1_int, kmer2_int, kSize, Q):\n",
    "    msk = (~(-1<<Q*2)) << (kSize*2 - Q*2)\n",
    "    return ((kmer1_int ^ kmer2_int) & msk == 0)\n",
    "\n",
    "def mask(kSize, Q):\n",
    "    return (~(-1<<Q*2)) << (kSize*2 - Q*2)\n",
    "\n",
    "# Take list of colors, sort it, and create a return a hash value\n",
    "def create_super_color(colors):\n",
    "    val = hashlib.md5(str(sorted(colors)).encode()).hexdigest()[:9]\n",
    "    print(\"Hashing: %s to %s\" % (str(sorted(colors)) , val) )\n",
    "    return val"
   ]
  },
  {
   "cell_type": "markdown",
   "metadata": {},
   "source": [
    "## Index Loading"
   ]
  },
  {
   "cell_type": "code",
   "execution_count": 61,
   "metadata": {},
   "outputs": [],
   "source": [
    "kList_str = {}\n",
    "kList = {}\n",
    "## Double loading will be changed in the future after implementing coloredkDataFrame iterator\n",
    "kf = kp.kDataFrame.load(\"idx_min_test\")\n",
    "ckf = kp.colored_kDataFrame.load(\"idx_min_test\")\n",
    "kSize = kf.getkSize()"
   ]
  },
  {
   "cell_type": "markdown",
   "metadata": {},
   "source": [
    "# Determine minQ and maxQ and get list of masks & superColorsDIct initialization"
   ]
  },
  {
   "cell_type": "code",
   "execution_count": 120,
   "metadata": {},
   "outputs": [
    {
     "name": "stdout",
     "output_type": "stream",
     "text": [
      "{15: [], 14: [], 13: [], 12: [], 11: [], 10: [], 9: []}\n",
      "{15: {}, 14: {}, 13: {}, 12: {}, 11: {}, 10: {}, 9: {}}\n",
      "{15: {}, 14: {}, 13: {}, 12: {}, 11: {}, 10: {}, 9: {}}\n"
     ]
    },
    {
     "data": {
      "text/plain": [
       "['0b111111111111111111111111111111000000000000',\n",
       " '0b111111111111111111111111111100000000000000',\n",
       " '0b111111111111111111111111110000000000000000',\n",
       " '0b111111111111111111111111000000000000000000',\n",
       " '0b111111111111111111111100000000000000000000',\n",
       " '0b111111111111111111110000000000000000000000',\n",
       " '0b111111111111111111000000000000000000000000']"
      ]
     },
     "execution_count": 120,
     "metadata": {},
     "output_type": "execute_result"
    }
   ],
   "source": [
    "minQ = 9\n",
    "stepQ = 1\n",
    "maxQ = 15 #kSize\n",
    "superColors = {}\n",
    "temp_superColors = {}\n",
    "superColorsCount = {}\n",
    "masks = {}\n",
    "\n",
    "for Q in range(maxQ, minQ-1, -stepQ):\n",
    "    masks[Q] = mask(kSize, Q)\n",
    "    superColors[Q] = {}\n",
    "    superColorsCount[Q] = {}\n",
    "    temp_superColors[Q] = []\n",
    "\n",
    "print(temp_superColors)\n",
    "print(superColors)\n",
    "print(superColorsCount)\n",
    "\n",
    "list(map(bin,masks.values()))"
   ]
  },
  {
   "cell_type": "code",
   "execution_count": 125,
   "metadata": {},
   "outputs": [
    {
     "name": "stdout",
     "output_type": "stream",
     "text": [
      "Matching Q15 AAAAAAAAAAACCTTAACAAA & AAAAAAAAAACCTTAACAAAT | FALSE\n",
      "Matching Q14 AAAAAAAAAAACCTTAACAAA & AAAAAAAAAACCTTAACAAAT | FALSE\n",
      "Matching Q13 AAAAAAAAAAACCTTAACAAA & AAAAAAAAAACCTTAACAAAT | FALSE\n",
      "Matching Q12 AAAAAAAAAAACCTTAACAAA & AAAAAAAAAACCTTAACAAAT | FALSE\n",
      "Matching Q11 AAAAAAAAAAACCTTAACAAA & AAAAAAAAAACCTTAACAAAT | FALSE\n",
      "Matching Q10 AAAAAAAAAAACCTTAACAAA & AAAAAAAAAACCTTAACAAAT | TRUE\n",
      "Matching Q9 AAAAAAAAAAACCTTAACAAA & AAAAAAAAAACCTTAACAAAT | TRUE\n",
      "---------------------------------------\n",
      "Matching Q15 AAAAAAAAAACCTTAACAAAT & AAAAAAAAACCTTAACAAATG | FALSE\n",
      "Matching Q14 AAAAAAAAAACCTTAACAAAT & AAAAAAAAACCTTAACAAATG | FALSE\n",
      "Matching Q13 AAAAAAAAAACCTTAACAAAT & AAAAAAAAACCTTAACAAATG | FALSE\n",
      "Matching Q12 AAAAAAAAAACCTTAACAAAT & AAAAAAAAACCTTAACAAATG | FALSE\n",
      "Matching Q11 AAAAAAAAAACCTTAACAAAT & AAAAAAAAACCTTAACAAATG | FALSE\n",
      "Matching Q10 AAAAAAAAAACCTTAACAAAT & AAAAAAAAACCTTAACAAATG | FALSE\n",
      "Hashing: [1, 1, 1, 1, 1, 1] to 45e657145\n",
      "Hashing: [1, 1, 1, 1, 1, 1] to 45e657145\n",
      "Hashing: [1, 1, 1, 1, 1, 1] to 45e657145\n",
      "Hashing: [1, 1, 1, 1, 1, 1] to 45e657145\n",
      "Hashing: [1, 1, 1, 1, 1, 1] to 45e657145\n",
      "Hashing: [1, 1, 1, 1, 1, 1] to 45e657145\n",
      "Matching Q9 AAAAAAAAAACCTTAACAAAT & AAAAAAAAACCTTAACAAATG | TRUE\n",
      "---------------------------------------\n",
      "Matching Q15 AAAAAAAAACCTTAACAAATG & AAAAAAAAATTTATTTGGTCC | FALSE\n",
      "Matching Q14 AAAAAAAAACCTTAACAAATG & AAAAAAAAATTTATTTGGTCC | FALSE\n",
      "Matching Q13 AAAAAAAAACCTTAACAAATG & AAAAAAAAATTTATTTGGTCC | FALSE\n",
      "Matching Q12 AAAAAAAAACCTTAACAAATG & AAAAAAAAATTTATTTGGTCC | FALSE\n",
      "Matching Q11 AAAAAAAAACCTTAACAAATG & AAAAAAAAATTTATTTGGTCC | FALSE\n",
      "Matching Q10 AAAAAAAAACCTTAACAAATG & AAAAAAAAATTTATTTGGTCC | FALSE\n",
      "Hashing: [1, 1, 1, 1, 1, 1] to 45e657145\n",
      "Hashing: [1, 1, 1, 1, 1, 1] to 45e657145\n",
      "Hashing: [1, 1, 1, 1, 1, 1] to 45e657145\n",
      "Hashing: [1, 1, 1, 1, 1, 1] to 45e657145\n",
      "Hashing: [1, 1, 1, 1, 1, 1] to 45e657145\n",
      "Hashing: [1, 1, 1, 1, 1, 1] to 45e657145\n",
      "Matching Q9 AAAAAAAAACCTTAACAAATG & AAAAAAAAATTTATTTGGTCC | TRUE\n",
      "---------------------------------------\n",
      "Matching Q15 AAAAAAAAATTTATTTGGTCC & AAAAAAAACCTTAACAAATGA | FALSE\n",
      "Matching Q14 AAAAAAAAATTTATTTGGTCC & AAAAAAAACCTTAACAAATGA | FALSE\n",
      "Matching Q13 AAAAAAAAATTTATTTGGTCC & AAAAAAAACCTTAACAAATGA | FALSE\n",
      "Matching Q12 AAAAAAAAATTTATTTGGTCC & AAAAAAAACCTTAACAAATGA | FALSE\n",
      "Matching Q11 AAAAAAAAATTTATTTGGTCC & AAAAAAAACCTTAACAAATGA | FALSE\n",
      "Matching Q10 AAAAAAAAATTTATTTGGTCC & AAAAAAAACCTTAACAAATGA | FALSE\n",
      "Hashing: [1, 1, 1, 1, 1, 1] to 45e657145\n",
      "Hashing: [1, 1, 1, 1, 1, 1] to 45e657145\n",
      "Hashing: [1, 1, 1, 1, 1, 1] to 45e657145\n",
      "Hashing: [1, 1, 1, 1, 1, 1] to 45e657145\n",
      "Hashing: [1, 1, 1, 1, 1, 1] to 45e657145\n",
      "Hashing: [1, 1, 1, 1, 1, 1] to 45e657145\n",
      "Matching Q9 AAAAAAAAATTTATTTGGTCC & AAAAAAAACCTTAACAAATGA | FALSE\n",
      "Hashing: [1, 1, 1, 1, 1, 1, 1, 1, 1, 1, 1, 1, 1, 1, 1, 1, 1, 1] to f2e5a57fd\n",
      "Hashing: [1, 1, 1, 1, 1, 1, 1, 1, 1, 1, 1, 1, 1, 1, 1, 1, 1, 1] to f2e5a57fd\n",
      "Hashing: [1, 1, 1, 1, 1, 1, 1, 1, 1, 1, 1, 1, 1, 1, 1, 1, 1, 1] to f2e5a57fd\n",
      "Hashing: [1, 1, 1, 1, 1, 1, 1, 1, 1, 1, 1, 1, 1, 1, 1, 1, 1, 1] to f2e5a57fd\n",
      "Hashing: [1, 1, 1, 1, 1, 1, 1, 1, 1, 1, 1, 1, 1, 1, 1, 1, 1, 1] to f2e5a57fd\n",
      "Hashing: [1, 1, 1, 1, 1, 1, 1, 1, 1, 1, 1, 1, 1, 1, 1, 1, 1, 1] to f2e5a57fd\n",
      "Hashing: [1, 1, 1, 1, 1, 1, 1, 1, 1, 1, 1, 1, 1, 1, 1, 1, 1, 1] to f2e5a57fd\n",
      "Hashing: [1, 1, 1, 1, 1, 1, 1, 1, 1, 1, 1, 1, 1, 1, 1, 1, 1, 1] to f2e5a57fd\n",
      "Hashing: [1, 1, 1, 1, 1, 1, 1, 1, 1, 1, 1, 1, 1, 1, 1, 1, 1, 1] to f2e5a57fd\n",
      "Hashing: [1, 1, 1, 1, 1, 1, 1, 1, 1, 1, 1, 1, 1, 1, 1, 1, 1, 1] to f2e5a57fd\n",
      "Hashing: [1, 1, 1, 1, 1, 1, 1, 1, 1, 1, 1, 1, 1, 1, 1, 1, 1, 1] to f2e5a57fd\n",
      "Hashing: [1, 1, 1, 1, 1, 1, 1, 1, 1, 1, 1, 1, 1, 1, 1, 1, 1, 1] to f2e5a57fd\n",
      "Hashing: [1, 1, 1, 1, 1, 1, 1, 1, 1, 1, 1, 1, 1, 1, 1, 1, 1, 1] to f2e5a57fd\n",
      "Hashing: [1, 1, 1, 1, 1, 1, 1, 1, 1, 1, 1, 1, 1, 1, 1, 1, 1, 1] to f2e5a57fd\n",
      "Hashing: [1, 1, 1, 1, 1, 1, 1, 1, 1, 1, 1, 1, 1, 1, 1, 1, 1, 1] to f2e5a57fd\n",
      "Hashing: [1, 1, 1, 1, 1, 1, 1, 1, 1, 1, 1, 1, 1, 1, 1, 1, 1, 1] to f2e5a57fd\n",
      "Hashing: [1, 1, 1, 1, 1, 1, 1, 1, 1, 1, 1, 1, 1, 1, 1, 1, 1, 1] to f2e5a57fd\n",
      "Hashing: [1, 1, 1, 1, 1, 1, 1, 1, 1, 1, 1, 1, 1, 1, 1, 1, 1, 1] to f2e5a57fd\n",
      "---------------------------------------\n",
      "Matching Q15 AAAAAAAACCTTAACAAATGA & AAAAAAAATTTATTTGGTCCA | FALSE\n",
      "Matching Q14 AAAAAAAACCTTAACAAATGA & AAAAAAAATTTATTTGGTCCA | FALSE\n",
      "Matching Q13 AAAAAAAACCTTAACAAATGA & AAAAAAAATTTATTTGGTCCA | FALSE\n",
      "Matching Q12 AAAAAAAACCTTAACAAATGA & AAAAAAAATTTATTTGGTCCA | FALSE\n",
      "Matching Q11 AAAAAAAACCTTAACAAATGA & AAAAAAAATTTATTTGGTCCA | FALSE\n",
      "Matching Q10 AAAAAAAACCTTAACAAATGA & AAAAAAAATTTATTTGGTCCA | FALSE\n",
      "Hashing: [1, 1, 1, 1, 1, 1] to 45e657145\n",
      "Hashing: [1, 1, 1, 1, 1, 1] to 45e657145\n",
      "Hashing: [1, 1, 1, 1, 1, 1] to 45e657145\n",
      "Hashing: [1, 1, 1, 1, 1, 1] to 45e657145\n",
      "Hashing: [1, 1, 1, 1, 1, 1] to 45e657145\n",
      "Hashing: [1, 1, 1, 1, 1, 1] to 45e657145\n",
      "Matching Q9 AAAAAAAACCTTAACAAATGA & AAAAAAAATTTATTTGGTCCA | FALSE\n",
      "Hashing: [1, 1, 1, 1, 1, 1, 1, 1, 1, 1, 1, 1, 1, 1, 1, 1, 1, 1] to f2e5a57fd\n",
      "Hashing: [1, 1, 1, 1, 1, 1, 1, 1, 1, 1, 1, 1, 1, 1, 1, 1, 1, 1] to f2e5a57fd\n",
      "Hashing: [1, 1, 1, 1, 1, 1, 1, 1, 1, 1, 1, 1, 1, 1, 1, 1, 1, 1] to f2e5a57fd\n",
      "Hashing: [1, 1, 1, 1, 1, 1, 1, 1, 1, 1, 1, 1, 1, 1, 1, 1, 1, 1] to f2e5a57fd\n",
      "Hashing: [1, 1, 1, 1, 1, 1, 1, 1, 1, 1, 1, 1, 1, 1, 1, 1, 1, 1] to f2e5a57fd\n",
      "Hashing: [1, 1, 1, 1, 1, 1, 1, 1, 1, 1, 1, 1, 1, 1, 1, 1, 1, 1] to f2e5a57fd\n",
      "Hashing: [1, 1, 1, 1, 1, 1, 1, 1, 1, 1, 1, 1, 1, 1, 1, 1, 1, 1] to f2e5a57fd\n",
      "Hashing: [1, 1, 1, 1, 1, 1, 1, 1, 1, 1, 1, 1, 1, 1, 1, 1, 1, 1] to f2e5a57fd\n",
      "Hashing: [1, 1, 1, 1, 1, 1, 1, 1, 1, 1, 1, 1, 1, 1, 1, 1, 1, 1] to f2e5a57fd\n",
      "Hashing: [1, 1, 1, 1, 1, 1, 1, 1, 1, 1, 1, 1, 1, 1, 1, 1, 1, 1] to f2e5a57fd\n",
      "Hashing: [1, 1, 1, 1, 1, 1, 1, 1, 1, 1, 1, 1, 1, 1, 1, 1, 1, 1] to f2e5a57fd\n",
      "Hashing: [1, 1, 1, 1, 1, 1, 1, 1, 1, 1, 1, 1, 1, 1, 1, 1, 1, 1] to f2e5a57fd\n",
      "Hashing: [1, 1, 1, 1, 1, 1, 1, 1, 1, 1, 1, 1, 1, 1, 1, 1, 1, 1] to f2e5a57fd\n",
      "Hashing: [1, 1, 1, 1, 1, 1, 1, 1, 1, 1, 1, 1, 1, 1, 1, 1, 1, 1] to f2e5a57fd\n",
      "Hashing: [1, 1, 1, 1, 1, 1, 1, 1, 1, 1, 1, 1, 1, 1, 1, 1, 1, 1] to f2e5a57fd\n",
      "Hashing: [1, 1, 1, 1, 1, 1, 1, 1, 1, 1, 1, 1, 1, 1, 1, 1, 1, 1] to f2e5a57fd\n",
      "Hashing: [1, 1, 1, 1, 1, 1, 1, 1, 1, 1, 1, 1, 1, 1, 1, 1, 1, 1] to f2e5a57fd\n",
      "Hashing: [1, 1, 1, 1, 1, 1, 1, 1, 1, 1, 1, 1, 1, 1, 1, 1, 1, 1] to f2e5a57fd\n",
      "---------------------------------------\n"
     ]
    }
   ],
   "source": [
    "it = kf.begin()\n",
    "prev_kmer = it.getHashedKmer()\n",
    "prev_kmer_color = it.getKmerCount()\n",
    "\n",
    "count = 5\n",
    "_samples_ids_cache = kp.colorsList()\n",
    "# Create list of kmers\n",
    "while it != kf.end():\n",
    "    \n",
    "    if count == 0:\n",
    "        break\n",
    "    count -= 1\n",
    "    \n",
    "    it.next()\n",
    "    curr_kmer = it.getHashedKmer()\n",
    "    curr_kmer_color = it.getKmerCount()\n",
    "    \n",
    "    # Apply XOR to kmer1 and kmer2 (single time per iteration)\n",
    "    xor = prev_kmer ^ curr_kmer\n",
    "    \n",
    "    # Apply all masks with all Qs\n",
    "    for Q, MASK in masks.items():\n",
    "        matched = not bool(xor & MASK) # True if there's match, False if not\n",
    "        if matched:\n",
    "            print(\"Matching Q%d %s & %s | TRUE\" % (Q, int_to_str(prev_kmer, kSize),int_to_str(curr_kmer, kSize)))\n",
    "            temp_superColors[Q] += [prev_kmer_color, curr_kmer_color]\n",
    "        else:\n",
    "            print(\"Matching Q%d %s & %s | FALSE\" % (Q, int_to_str(prev_kmer, kSize),int_to_str(curr_kmer, kSize)))\n",
    "            # Get all Samples of these co`lors\n",
    "            samples_ids = []\n",
    "            for _col in temp_superColors[Q]:\n",
    "                ckf.getSamplesIDForColor(_col, _samples_ids_cache)\n",
    "                samples_ids += _samples_ids_cache\n",
    "                super_color = create_super_color(temp_superColors[Q])\n",
    "                \n",
    "                # Check if the superColor already exist\n",
    "                # If yes: increment the count to one\n",
    "                # If No:  Insert the new superColor and set the count to 1\n",
    "                if super_color not in superColors[Q]:\n",
    "                    superColors[Q][super_color] = set(samples_ids)\n",
    "                    superColorsCount[Q][super_color] = 1\n",
    "                    \n",
    "                else:\n",
    "                    superColorsCount[Q][super_color] += 1\n",
    "                    \n",
    "                    \n",
    "    \n",
    "#     for Q in range(maxQ, minQ, -stepQ):\n",
    "#         if(matchingKmers(curr_kmer, prev_kmer, kf.getkSize(), Q)):\n",
    "#             print(\"Matching Q%d %s & %s | TRUE\" % (Q, int_to_str(prev_kmer, kSize),int_to_str(curr_kmer, kSize)))\n",
    "#         else:\n",
    "#             print(\"Matching Q%d %s & %s | FALSE\" % (Q, int_to_str(prev_kmer, kSize),int_to_str(curr_kmer, kSize)))\n",
    "    print(\"---------------------------------------\")\n",
    "    \n",
    "    prev_kmer = curr_kmer"
   ]
  },
  {
   "cell_type": "code",
   "execution_count": 118,
   "metadata": {},
   "outputs": [
    {
     "data": {
      "text/plain": [
       "{15: {},\n",
       " 14: {},\n",
       " 13: {},\n",
       " 12: {},\n",
       " 11: {},\n",
       " 10: {'e5df5f641': {1}, 'bfb10fa9e': {1}},\n",
       " 9: {'45e657145': {1}, '7107cc562': {1}}}"
      ]
     },
     "execution_count": 118,
     "metadata": {},
     "output_type": "execute_result"
    }
   ],
   "source": [
    "superColors"
   ]
  },
  {
   "cell_type": "code",
   "execution_count": 110,
   "metadata": {},
   "outputs": [
    {
     "data": {
      "text/plain": [
       "{15: {},\n",
       " 14: {},\n",
       " 13: {},\n",
       " 12: {},\n",
       " 11: {},\n",
       " 10: {'e5df5f641': 8, 'bfb10fa9e': 16, '45e657145': 24, '134c522e4': 32},\n",
       " 9: {'45e657145': 12, '7107cc562': 24, 'f2e5a57fd': 36, '1d50487b6': 48}}"
      ]
     },
     "execution_count": 110,
     "metadata": {},
     "output_type": "execute_result"
    }
   ],
   "source": [
    "superColorsCount"
   ]
  },
  {
   "cell_type": "code",
   "execution_count": 101,
   "metadata": {},
   "outputs": [
    {
     "data": {
      "text/plain": [
       "{15: [], 14: [], 13: [], 12: [], 11: [], 10: [1, 1], 9: [1, 1, 1, 1, 1, 1]}"
      ]
     },
     "execution_count": 101,
     "metadata": {},
     "output_type": "execute_result"
    }
   ],
   "source": [
    "temp_superColors"
   ]
  },
  {
   "cell_type": "code",
   "execution_count": 59,
   "metadata": {},
   "outputs": [
    {
     "data": {
      "text/plain": [
       "\u001b[0;31mSignature:\u001b[0m \u001b[0mckf\u001b[0m\u001b[0;34m.\u001b[0m\u001b[0mgetSamplesIDForColor\u001b[0m\u001b[0;34m(\u001b[0m\u001b[0mcolor\u001b[0m\u001b[0;34m:\u001b[0m\u001b[0;34m'uint32_t'\u001b[0m\u001b[0;34m,\u001b[0m \u001b[0mresult\u001b[0m\u001b[0;34m:\u001b[0m\u001b[0;34m'colorsList'\u001b[0m\u001b[0;34m)\u001b[0m \u001b[0;34m->\u001b[0m \u001b[0;34m'void'\u001b[0m\u001b[0;34m\u001b[0m\u001b[0;34m\u001b[0m\u001b[0m\n",
       "\u001b[0;31mDocstring:\u001b[0m <no docstring>\n",
       "\u001b[0;31mFile:\u001b[0m      ~/miniconda3/envs/kcluster/lib/python3.6/site-packages/kProcessor.py\n",
       "\u001b[0;31mType:\u001b[0m      method\n"
      ]
     },
     "metadata": {},
     "output_type": "display_data"
    }
   ],
   "source": [
    "ckf.getSamplesIDForColor?"
   ]
  },
  {
   "cell_type": "code",
   "execution_count": null,
   "metadata": {},
   "outputs": [],
   "source": [
    "for Q in range(maxQ, minQ, -stepQ):\n",
    "    print(Q)"
   ]
  },
  {
   "cell_type": "code",
   "execution_count": 52,
   "metadata": {},
   "outputs": [
    {
     "data": {
      "text/plain": [
       "True"
      ]
     },
     "execution_count": 52,
     "metadata": {},
     "output_type": "execute_result"
    }
   ],
   "source": [
    "not bool(0)"
   ]
  },
  {
   "cell_type": "code",
   "execution_count": null,
   "metadata": {},
   "outputs": [],
   "source": []
  },
  {
   "cell_type": "code",
   "execution_count": null,
   "metadata": {},
   "outputs": [],
   "source": []
  }
 ],
 "metadata": {
  "kernelspec": {
   "display_name": "Python 3",
   "language": "python",
   "name": "python3"
  },
  "language_info": {
   "codemirror_mode": {
    "name": "ipython",
    "version": 3
   },
   "file_extension": ".py",
   "mimetype": "text/x-python",
   "name": "python",
   "nbconvert_exporter": "python",
   "pygments_lexer": "ipython3",
   "version": "3.6.7"
  }
 },
 "nbformat": 4,
 "nbformat_minor": 2
}
