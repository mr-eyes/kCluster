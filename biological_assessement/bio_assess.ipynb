{
 "cells": [
  {
   "cell_type": "markdown",
   "metadata": {},
   "source": [
    "# Preparing"
   ]
  },
  {
   "cell_type": "markdown",
   "metadata": {},
   "source": [
    "### Initialization"
   ]
  },
  {
   "cell_type": "code",
   "execution_count": 1,
   "metadata": {},
   "outputs": [],
   "source": [
    "transcript_to_locus = {}\n",
    "transcript_to_gene = {}\n",
    "locus_to_transcripts = {}\n",
    "gene_to_transcripts = {}\n",
    "locus_to_genes = {}\n",
    "gene_to_locus = {}\n",
    "########\n",
    "cdhit_to_loci = {}\n",
    "cdhit_to_genes = {}\n",
    "transcript_to_cdhit = {}\n",
    "cdhit_to_transcripts = {}\n",
    "gene_to_cdhits = {}\n",
    "locus_to_cdhits = {}\n",
    "########\n",
    "kCluster_to_loci = {}\n",
    "kCluster_to_genes = {}\n",
    "transcript_to_kCluster = {}\n",
    "kCluster_to_transcripts = {}\n",
    "gene_to_kCluster = {}\n",
    "locus_to_kCluster = {}\n",
    "########\n",
    "kCluster_to_cdhits = {}\n",
    "cdhit_to_kClusters = {}"
   ]
  },
  {
   "cell_type": "markdown",
   "metadata": {},
   "source": [
    "### Parsing Fasta File"
   ]
  },
  {
   "cell_type": "code",
   "execution_count": 2,
   "metadata": {},
   "outputs": [],
   "source": [
    "with open(\"clstr95_loci_protein_coding_gencode.v28.transcripts.fa\", \"r\") as fa:\n",
    "    for line in fa:\n",
    "        if line[0] != \">\":\n",
    "            continue\n",
    "\n",
    "        line = line[1:-2].split(\"|\")\n",
    "\n",
    "        transcript = line[0]\n",
    "        gene = line[1]\n",
    "        locus = line[8]\n",
    "        cdhit = line[9]\n",
    "\n",
    "        transcript_to_gene[transcript] = gene\n",
    "        transcript_to_locus[transcript] = locus\n",
    "        gene_to_locus[gene] = locus\n",
    "        transcript_to_cdhit[transcript] = cdhit\n",
    "\n",
    "        # locus_to_genes\n",
    "        if locus not in locus_to_genes:\n",
    "            locus_to_genes[locus] = [gene]\n",
    "        else:\n",
    "            locus_to_genes[locus].append(gene)\n",
    "\n",
    "        # locus_to_cdhits\n",
    "        if locus not in locus_to_cdhits:\n",
    "            locus_to_cdhits[locus] = [cdhit]\n",
    "        else:\n",
    "            locus_to_cdhits[locus].append(cdhit)\n",
    "\n",
    "        # locus_to_transcripts\n",
    "        if locus not in locus_to_transcripts:\n",
    "            locus_to_transcripts[locus] = [transcript]\n",
    "        else:\n",
    "            locus_to_transcripts[locus].append(transcript)\n",
    "\n",
    "        # gene_to_transcripts\n",
    "        if gene not in gene_to_transcripts:\n",
    "            gene_to_transcripts[gene] = [transcript]\n",
    "        else:\n",
    "            gene_to_transcripts[gene].append(transcript)\n",
    "\n",
    "        # cdhit_to_genes\n",
    "        if cdhit not in cdhit_to_genes:\n",
    "            cdhit_to_genes[cdhit] = [gene]\n",
    "        else:\n",
    "            cdhit_to_genes[cdhit].append(gene)\n",
    "\n",
    "        # cdhit_to_transcripts\n",
    "        if cdhit not in cdhit_to_transcripts:\n",
    "            cdhit_to_transcripts[cdhit] = [transcript]\n",
    "        else:\n",
    "            cdhit_to_transcripts[cdhit].append(transcript)\n",
    "\n",
    "        # cdhit_to_loci\n",
    "        if cdhit not in cdhit_to_loci:\n",
    "            cdhit_to_loci[cdhit] = [locus]\n",
    "        else:\n",
    "            cdhit_to_loci[cdhit].append(locus)\n",
    "\n",
    "        # gene_to_cdhits\n",
    "        if gene not in gene_to_cdhits:\n",
    "            gene_to_cdhits[gene] = [cdhit]\n",
    "        else:\n",
    "            gene_to_cdhits[gene].append(cdhit)"
   ]
  },
  {
   "cell_type": "markdown",
   "metadata": {},
   "source": [
    "### Parsing Clusters File"
   ]
  },
  {
   "cell_type": "code",
   "execution_count": 3,
   "metadata": {},
   "outputs": [],
   "source": [
    "with open(\"clusters_c100.0_UNORD_PC.tsv\", \"r\") as clusters:\n",
    "    next(clusters)\n",
    "    for cluster in clusters:\n",
    "        cluster = cluster.split()\n",
    "        kCluster = cluster[0]\n",
    "        transcripts = cluster[1].split(\",\")\n",
    "        kCluster_to_loci[kCluster] = [transcript_to_locus[tr] for tr in transcripts]\n",
    "        kCluster_to_genes[kCluster] = [transcript_to_gene[tr] for tr in transcripts]\n",
    "        kCluster_to_transcripts[kCluster] = transcripts\n",
    "\n",
    "        for tr in transcripts:\n",
    "            gene = transcript_to_gene[tr]\n",
    "            locus = transcript_to_locus[tr]\n",
    "            gene_to_kCluster[gene] = kCluster\n",
    "            locus_to_kCluster[locus] = kCluster\n",
    "            transcript_to_kCluster[tr] = kCluster\n",
    "        "
   ]
  },
  {
   "cell_type": "markdown",
   "metadata": {},
   "source": [
    "### Parsing Comparison File"
   ]
  },
  {
   "cell_type": "code",
   "execution_count": 4,
   "metadata": {},
   "outputs": [],
   "source": [
    "with open(\"cdhit95_kCluster100%_k25_comparison.tsv\", \"r\") as kC:\n",
    "    next(kC).split()\n",
    "    for line in kC:\n",
    "        line = line.split()\n",
    "        q1 = line[1]\n",
    "        q2 = line[2]\n",
    "        kCluster = line[5]\n",
    "        cdhits = line[6].split(\",\")\n",
    "        kCluster_to_cdhits[kCluster] = cdhits\n",
    "\n"
   ]
  },
  {
   "cell_type": "code",
   "execution_count": 5,
   "metadata": {},
   "outputs": [],
   "source": [
    "for kCluster, cdhits in kCluster_to_cdhits.iteritems():\n",
    "    for cdhit in cdhits:\n",
    "        if cdhit not in cdhit_to_kClusters:\n",
    "            cdhit_to_kClusters[cdhit] = [kCluster]\n",
    "        else:\n",
    "            cdhit_to_kClusters[cdhit].append(kCluster)"
   ]
  },
  {
   "cell_type": "markdown",
   "metadata": {},
   "source": [
    "# Benchmarking"
   ]
  },
  {
   "cell_type": "markdown",
   "metadata": {
    "slideshow": {
     "slide_type": "notes"
    }
   },
   "source": [
    "## ***Q1. Splitted CDHIT Clusters from one kCluster***\n",
    "<h4>\n",
    "<ol>\n",
    "    <li>How many kClusters divided into many CDHIT clusters?</li>\n",
    "    <li>For every splitted kCLuster, How many complete loci in it?</li>\n",
    "    <li>For every splitted kCLuster, How many complete gene in it?</li>\n",
    "    <li>If there is an incomplete loci, if it contains one gene, how many transcripts are missing?</li>\n",
    "    <li>If there is an incomplete gene, how many of its transcripts got grouped in both clusters' types? </li>\n",
    "    <li>Does all transcripts in kCluster found in all CDHIT clusters combined?</li>\n",
    "    <li>Are the CDHIT clusters grouping all transcripts of a single gene?</li>\n",
    "    <li>If there is more than one locus forming the kCluster, how many of them is complete?</li>\n",
    "    <li>If there is more than one gene forming the kCluster, how many of them is complete? and how many transcripts are missing from the incomplete to be complete?</li>\n",
    "    <li></li>\n",
    "    <li></li>\n",
    "    <li></li>\n",
    "    <li></li>\n",
    "    <li></li>\n",
    "    <li></li>\n",
    "    <li></li>\n",
    "</ol>\n",
    "</h4>"
   ]
  },
  {
   "cell_type": "code",
   "execution_count": 8,
   "metadata": {},
   "outputs": [],
   "source": [
    "no_of_splitted_kClusters = 0\n",
    "for kCluster in kCluster_to_cdhits.keys():\n",
    "    cdhits = kCluster_to_cdhits[kCluster]\n",
    "    if len(cdhits) == 1:\n",
    "        continue\n",
    "    \n",
    "    no_of_splitted_kClusters += 1\n",
    "    loci_in_kCluster = kCluster_to_loci[kCluster]\n",
    "    kCluster_number_of_loci = len(loci_in_kCluster)\n",
    "    \n",
    "    loci_in_cdhits = []\n",
    "    for cdhit in cdhits:\n",
    "        loci_in_cdhits += cdhit_to_loci[cdhit]\n",
    "    \n",
    "    cdhit_number_of_loci = len(loci_in_cdhits)\n",
    "    \n",
    "    all_tr_in_kCluster_one_loci = False\n",
    "    \n",
    "    \n",
    "    # Check if kCluster transcripts belongs to just one locus\n",
    "    if kCluster_number_of_loci == 1:\n",
    "        # Number of transcripts in the kCluster\n",
    "        no_of_trs = len(kCluster_to_transcripts[kCluster])\n",
    "        # Check if all transcripts belongs to one gene\n",
    "        if len(kCluster_to_genes[kCluster]) == 1:\n",
    "            # Belongs to one gene\n",
    "            kCluster_gene = kCluster_to_genes[kCluster]\n",
    "            gene_trs = gene_to_transcripts[kCluster_gene]\n",
    "            # Check if there are missing transcripts in that gene\n",
    "            if len(gene_trs) == no_of_trs:\n",
    "                # Yes It has got all transcripts\n",
    "                print \"Gene has got all its transcripts\"\n",
    "                \n",
    "            else:\n",
    "                diff = no_of_trs - len(gene_trs)\n",
    "                # <diff> transcripts are missing to be a complete gene\n",
    "        \n",
    "    \n",
    "    \n",
    "    for locus in loci_in_kCluster:\n",
    "        locus_tr = locus_to_transcripts[locus]\n",
    "        number_of_locus_tr = len(locus_tr)\n",
    "        locus_genes = locus_to_genes[locus]\n",
    "        number_of_locus_genes = len(locus_genes)\n",
    "        \n",
    "        \n",
    "            \n",
    "    \n",
    "\n",
    "\n",
    "    "
   ]
  }
 ],
 "metadata": {
  "kernelspec": {
   "display_name": "Python 2",
   "language": "python",
   "name": "python2"
  },
  "language_info": {
   "codemirror_mode": {
    "name": "ipython",
    "version": 2
   },
   "file_extension": ".py",
   "mimetype": "text/x-python",
   "name": "python",
   "nbconvert_exporter": "python",
   "pygments_lexer": "ipython2",
   "version": "2.7.15rc1"
  }
 },
 "nbformat": 4,
 "nbformat_minor": 2
}
