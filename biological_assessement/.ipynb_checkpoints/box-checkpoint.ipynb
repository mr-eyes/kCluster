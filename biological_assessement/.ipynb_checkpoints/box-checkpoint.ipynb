{
    "nbformat_minor": 0, 
    "nbformat": 4, 
    "cells": [
        {
            "source": [
                "#### New to Plotly?\n", 
                "Plotly's Python library is free and open source! [Get started](https://plot.ly/python/getting-started/) by downloading the client and [reading the primer](https://plot.ly/python/getting-started/).\n", 
                "<br>You can set up Plotly to work in [online](https://plot.ly/python/getting-started/#initialization-for-online-plotting) or [offline](https://plot.ly/python/getting-started/#initialization-for-offline-plotting) mode, or in [jupyter notebooks](https://plot.ly/python/getting-started/#start-plotting-online).\n", 
                "<br>We also have a quick-reference [cheatsheet](https://images.plot.ly/plotly-documentation/images/python_cheat_sheet.pdf) (new!) to help you get started!\n"
            ], 
            "cell_type": "markdown", 
            "metadata": {}
        }, 
        {
            "source": [
                "### Basic Box Plot ###"
            ], 
            "cell_type": "markdown", 
            "metadata": {}
        }, 
        {
            "source": [
                "import plotly.plotly as py\n", 
                "import plotly.graph_objs as go\n", 
                "\n", 
                "import numpy as np\n", 
                "\n", 
                "y0 = np.random.randn(50)-1\n", 
                "y1 = np.random.randn(50)+1\n", 
                "\n", 
                "trace0 = go.Box(\n", 
                "    y=y0\n", 
                ")\n", 
                "trace1 = go.Box(\n", 
                "    y=y1\n", 
                ")\n", 
                "data = [trace0, trace1]\n", 
                "py.iplot(data)"
            ], 
            "cell_type": "code", 
            "metadata": {
                "collapsed": false
            }, 
            "execution_count": 1, 
            "outputs": [
                {
                    "output_type": "execute_result", 
                    "data": {
                        "text/plain": [
                            "<plotly.tools.PlotlyDisplay object>"
                        ], 
                        "text/html": [
                            "<iframe id=\"igraph\" scrolling=\"no\" style=\"border:none;\" seamless=\"seamless\" src=\"https://plot.ly/~Diksha_Gabha/585.embed\" height=\"525px\" width=\"100%\"></iframe>"
                        ]
                    }, 
                    "execution_count": 1, 
                    "metadata": {}
                }
            ]
        }, 
        {
            "source": [
                "### Basic Horizontal Box Plot ###"
            ], 
            "cell_type": "markdown", 
            "metadata": {}
        }, 
        {
            "source": [
                "import plotly.plotly as py\n", 
                "import plotly.graph_objs as go\n", 
                "\n", 
                "import numpy as np\n", 
                "\n", 
                "x0 = np.random.randn(50)\n", 
                "x1 = np.random.randn(50) + 2\n", 
                "\n", 
                "trace0 = go.Box(x=x0)\n", 
                "trace1 = go.Box(x=x1)\n", 
                "data = [trace0, trace1]\n", 
                "py.iplot(data)"
            ], 
            "cell_type": "code", 
            "metadata": {
                "collapsed": false
            }, 
            "execution_count": 2, 
            "outputs": [
                {
                    "output_type": "execute_result", 
                    "data": {
                        "text/plain": [
                            "<plotly.tools.PlotlyDisplay object>"
                        ], 
                        "text/html": [
                            "<iframe id=\"igraph\" scrolling=\"no\" style=\"border:none;\" seamless=\"seamless\" src=\"https://plot.ly/~Diksha_Gabha/587.embed\" height=\"525px\" width=\"100%\"></iframe>"
                        ]
                    }, 
                    "execution_count": 2, 
                    "metadata": {}
                }
            ]
        }, 
        {
            "source": [
                "### Box Plot That Displays the Underlying Data ###"
            ], 
            "cell_type": "markdown", 
            "metadata": {}
        }, 
        {
            "source": [
                "import plotly.plotly as py\n", 
                "import plotly.graph_objs as go\n", 
                "\n", 
                "data = [\n", 
                "    go.Box(\n", 
                "        y=[0, 1, 1, 2, 3, 5, 8, 13, 21],\n", 
                "        boxpoints='all',\n", 
                "        jitter=0.3,\n", 
                "        pointpos=-1.8\n", 
                "    )\n", 
                "]\n", 
                "py.iplot(data)"
            ], 
            "cell_type": "code", 
            "metadata": {
                "collapsed": false
            }, 
            "execution_count": 3, 
            "outputs": [
                {
                    "output_type": "execute_result", 
                    "data": {
                        "text/plain": [
                            "<plotly.tools.PlotlyDisplay object>"
                        ], 
                        "text/html": [
                            "<iframe id=\"igraph\" scrolling=\"no\" style=\"border:none;\" seamless=\"seamless\" src=\"https://plot.ly/~Diksha_Gabha/589.embed\" height=\"525px\" width=\"100%\"></iframe>"
                        ]
                    }, 
                    "execution_count": 3, 
                    "metadata": {}
                }
            ]
        }, 
        {
            "source": [
                "### Colored Box Plot ###"
            ], 
            "cell_type": "markdown", 
            "metadata": {}
        }, 
        {
            "source": [
                "import plotly.plotly as py\n", 
                "import plotly.graph_objs as go\n", 
                "\n", 
                "import numpy as np\n", 
                "\n", 
                "y0 = np.random.randn(50)\n", 
                "y1 = np.random.randn(50)+1\n", 
                "\n", 
                "trace0 = go.Box(\n", 
                "    y=y0,\n", 
                "    name = 'Sample A',\n", 
                "    marker = dict(\n", 
                "        color = 'rgb(214, 12, 140)',\n", 
                "    )\n", 
                ")\n", 
                "trace1 = go.Box(\n", 
                "    y=y1,\n", 
                "    name = 'Sample B',\n", 
                "    marker = dict(\n", 
                "        color = 'rgb(0, 128, 128)',\n", 
                "    )\n", 
                ")\n", 
                "data = [trace0, trace1]\n", 
                "py.iplot(data)"
            ], 
            "cell_type": "code", 
            "metadata": {
                "collapsed": false
            }, 
            "execution_count": 4, 
            "outputs": [
                {
                    "output_type": "execute_result", 
                    "data": {
                        "text/plain": [
                            "<plotly.tools.PlotlyDisplay object>"
                        ], 
                        "text/html": [
                            "<iframe id=\"igraph\" scrolling=\"no\" style=\"border:none;\" seamless=\"seamless\" src=\"https://plot.ly/~Diksha_Gabha/591.embed\" height=\"525px\" width=\"100%\"></iframe>"
                        ]
                    }, 
                    "execution_count": 4, 
                    "metadata": {}
                }
            ]
        }, 
        {
            "source": [
                "### Box Plot Styling Mean & Standard Deviation ###"
            ], 
            "cell_type": "markdown", 
            "metadata": {}
        }, 
        {
            "source": [
                "import plotly.plotly as py\n", 
                "import plotly.graph_objs as go\n", 
                "\n", 
                "trace0 = go.Box(\n", 
                "    y=[2.37, 2.16, 4.82, 1.73, 1.04, 0.23, 1.32, 2.91, 0.11, 4.51, 0.51, 3.75, 1.35, 2.98, 4.50, 0.18, 4.66, 1.30, 2.06, 1.19],\n", 
                "    name='Only Mean',\n", 
                "    marker=dict(\n", 
                "        color='rgb(8, 81, 156)',\n", 
                "    ),\n", 
                "    boxmean=True\n", 
                ")\n", 
                "trace1 = go.Box(\n", 
                "    y=[2.37, 2.16, 4.82, 1.73, 1.04, 0.23, 1.32, 2.91, 0.11, 4.51, 0.51, 3.75, 1.35, 2.98, 4.50, 0.18, 4.66, 1.30, 2.06, 1.19],\n", 
                "    name='Mean & SD',\n", 
                "    marker=dict(\n", 
                "        color='rgb(10, 140, 208)',\n", 
                "    ),\n", 
                "    boxmean='sd'\n", 
                ")\n", 
                "data = [trace0, trace1]\n", 
                "py.iplot(data)"
            ], 
            "cell_type": "code", 
            "metadata": {
                "collapsed": false
            }, 
            "execution_count": 5, 
            "outputs": [
                {
                    "output_type": "execute_result", 
                    "data": {
                        "text/plain": [
                            "<plotly.tools.PlotlyDisplay object>"
                        ], 
                        "text/html": [
                            "<iframe id=\"igraph\" scrolling=\"no\" style=\"border:none;\" seamless=\"seamless\" src=\"https://plot.ly/~Diksha_Gabha/593.embed\" height=\"525px\" width=\"100%\"></iframe>"
                        ]
                    }, 
                    "execution_count": 5, 
                    "metadata": {}
                }
            ]
        }, 
        {
            "source": [
                "### Grouped Box Plots ###"
            ], 
            "cell_type": "markdown", 
            "metadata": {}
        }, 
        {
            "source": [
                "import plotly.plotly as py\n", 
                "import plotly.graph_objs as go\n", 
                "\n", 
                "x = ['day 1', 'day 1', 'day 1', 'day 1', 'day 1', 'day 1',\n", 
                "     'day 2', 'day 2', 'day 2', 'day 2', 'day 2', 'day 2']\n", 
                "\n", 
                "trace0 = go.Box(\n", 
                "    y=[0.2, 0.2, 0.6, 1.0, 0.5, 0.4, 0.2, 0.7, 0.9, 0.1, 0.5, 0.3],\n", 
                "    x=x,\n", 
                "    name='kale',\n", 
                "    marker=dict(\n", 
                "        color='#3D9970'\n", 
                "    )\n", 
                ")\n", 
                "trace1 = go.Box(\n", 
                "    y=[0.6, 0.7, 0.3, 0.6, 0.0, 0.5, 0.7, 0.9, 0.5, 0.8, 0.7, 0.2],\n", 
                "    x=x,\n", 
                "    name='radishes',\n", 
                "    marker=dict(\n", 
                "        color='#FF4136'\n", 
                "    )\n", 
                ")\n", 
                "trace2 = go.Box(\n", 
                "    y=[0.1, 0.3, 0.1, 0.9, 0.6, 0.6, 0.9, 1.0, 0.3, 0.6, 0.8, 0.5],\n", 
                "    x=x,\n", 
                "    name='carrots',\n", 
                "    marker=dict(\n", 
                "        color='#FF851B'\n", 
                "    )\n", 
                ")\n", 
                "data = [trace0, trace1, trace2]\n", 
                "layout = go.Layout(\n", 
                "    yaxis=dict(\n", 
                "        title='normalized moisture',\n", 
                "        zeroline=False\n", 
                "    ),\n", 
                "    boxmode='group'\n", 
                ")\n", 
                "fig = go.Figure(data=data, layout=layout)\n", 
                "py.iplot(fig)"
            ], 
            "cell_type": "code", 
            "metadata": {
                "collapsed": false
            }, 
            "execution_count": 6, 
            "outputs": [
                {
                    "output_type": "execute_result", 
                    "data": {
                        "text/plain": [
                            "<plotly.tools.PlotlyDisplay object>"
                        ], 
                        "text/html": [
                            "<iframe id=\"igraph\" scrolling=\"no\" style=\"border:none;\" seamless=\"seamless\" src=\"https://plot.ly/~Diksha_Gabha/595.embed\" height=\"525px\" width=\"100%\"></iframe>"
                        ]
                    }, 
                    "execution_count": 6, 
                    "metadata": {}
                }
            ]
        }, 
        {
            "source": [
                "### Grouped Horizontal Box Plot ###"
            ], 
            "cell_type": "markdown", 
            "metadata": {}
        }, 
        {
            "source": [
                "import plotly.plotly as py\n", 
                "import plotly.graph_objs as go\n", 
                "\n", 
                "data = [\n", 
                "    {\n", 
                "        'x': [0.2, 0.2, 0.6, 1.0, 0.5, 0.4, 0.2, 0.7, 0.9, 0.1, 0.5, 0.3],\n", 
                "        'y': ['day 1', 'day 1', 'day 1', 'day 1', 'day 1', 'day 1', 'day 2', 'day 2', 'day 2', 'day 2', 'day 2', 'day 2'],\n", 
                "        'name':'kale',\n", 
                "        'marker': {\n", 
                "            'color': '#3D9970'\n", 
                "        },\n", 
                "        'boxmean': False,\n", 
                "        'orientation': 'h',\n", 
                "        \"type\": \"box\",\n", 
                "    },\n", 
                "    {\n", 
                "        'x': [0.6, 0.7, 0.3, 0.6, 0.0, 0.5, 0.7, 0.9, 0.5, 0.8, 0.7, 0.2],\n", 
                "        'y': ['day 1', 'day 1', 'day 1', 'day 1', 'day 1', 'day 1', 'day 2', 'day 2', 'day 2', 'day 2', 'day 2', 'day 2'],\n", 
                "        'name': 'radishes',\n", 
                "        'marker':{\n", 
                "            'color': '#FF4136',\n", 
                "        },\n", 
                "        'boxmean': False,\n", 
                "        'orientation': 'h',\n", 
                "        \"type\": \"box\",\n", 
                "    },\n", 
                "    {\n", 
                "        'x': [0.1, 0.3, 0.1, 0.9, 0.6, 0.6, 0.9, 1.0, 0.3, 0.6, 0.8, 0.5],\n", 
                "        'y': ['day 1', 'day 1', 'day 1', 'day 1', 'day 1', 'day 1', 'day 2', 'day 2', 'day 2', 'day 2', 'day 2', 'day 2'],\n", 
                "        'name':'carrots',\n", 
                "        'marker': {\n", 
                "            'color': '#FF851B',\n", 
                "        },\n", 
                "        'boxmean': False,\n", 
                "        'orientation': 'h',\n", 
                "        \"type\": \"box\",\n", 
                "    }\n", 
                "]\n", 
                "layout = {\n", 
                "    'xaxis': {\n", 
                "        'title': 'normalized moisture',\n", 
                "        'zeroline': False,\n", 
                "    },\n", 
                "    'boxmode': 'group',\n", 
                "}\n", 
                "fig = go.Figure(data=data, layout=layout)\n", 
                "\n", 
                "py.iplot(fig)"
            ], 
            "cell_type": "code", 
            "metadata": {
                "collapsed": false
            }, 
            "execution_count": 7, 
            "outputs": [
                {
                    "output_type": "execute_result", 
                    "data": {
                        "text/plain": [
                            "<plotly.tools.PlotlyDisplay object>"
                        ], 
                        "text/html": [
                            "<iframe id=\"igraph\" scrolling=\"no\" style=\"border:none;\" seamless=\"seamless\" src=\"https://plot.ly/~Diksha_Gabha/597.embed\" height=\"525px\" width=\"100%\"></iframe>"
                        ]
                    }, 
                    "execution_count": 7, 
                    "metadata": {}
                }
            ]
        }, 
        {
            "source": [
                "### Rainbow Box Plots ###"
            ], 
            "cell_type": "markdown", 
            "metadata": {}
        }, 
        {
            "source": [
                "import random\n", 
                "import plotly.plotly as py\n", 
                "\n", 
                "from numpy import * \n", 
                "\n", 
                "N = 30.     # Number of boxes\n", 
                "\n", 
                "# generate an array of rainbow colors by fixing the saturation and lightness of the HSL representation of colour \n", 
                "# and marching around the hue. \n", 
                "# Plotly accepts any CSS color format, see e.g. http://www.w3schools.com/cssref/css_colors_legal.asp.\n", 
                "c = ['hsl('+str(h)+',50%'+',50%)' for h in linspace(0, 360, N)]\n", 
                "\n", 
                "# Each box is represented by a dict that contains the data, the type, and the colour. \n", 
                "# Use list comprehension to describe N boxes, each with a different colour and with different randomly generated data:\n", 
                "data = [{\n", 
                "    'y': 3.5*sin(pi * i/N) + i/N+(1.5+0.5*cos(pi*i/N))*random.rand(10), \n", 
                "    'type':'box',\n", 
                "    'marker':{'color': c[i]}\n", 
                "    } for i in range(int(N))]\n", 
                "\n", 
                "# format the layout\n", 
                "layout = {'xaxis': {'showgrid':False,'zeroline':False, 'tickangle':60,'showticklabels':False},\n", 
                "          'yaxis': {'zeroline':False,'gridcolor':'white'},\n", 
                "          'paper_bgcolor': 'rgb(233,233,233)',\n", 
                "          'plot_bgcolor': 'rgb(233,233,233)',\n", 
                "          }\n", 
                "\n", 
                "py.iplot(data)"
            ], 
            "cell_type": "code", 
            "metadata": {
                "collapsed": false
            }, 
            "execution_count": 8, 
            "outputs": [
                {
                    "output_type": "execute_result", 
                    "data": {
                        "text/plain": [
                            "<plotly.tools.PlotlyDisplay object>"
                        ], 
                        "text/html": [
                            "<iframe id=\"igraph\" scrolling=\"no\" style=\"border:none;\" seamless=\"seamless\" src=\"https://plot.ly/~Diksha_Gabha/599.embed\" height=\"525px\" width=\"100%\"></iframe>"
                        ]
                    }, 
                    "execution_count": 8, 
                    "metadata": {}
                }
            ]
        }, 
        {
            "source": [
                "### Fully Styled Box Plots ###\n"
            ], 
            "cell_type": "markdown", 
            "metadata": {}
        }, 
        {
            "source": [
                "import plotly.plotly as py\n", 
                "import plotly.graph_objs as go\n", 
                "\n", 
                "x_data = ['Carmelo Anthony', 'Dwyane Wade',\n", 
                "          'Deron Williams', 'Brook Lopez',\n", 
                "          'Damian Lillard', 'David West',]\n", 
                "\n", 
                "y0 = np.random.randn(50)-1\n", 
                "y1 = np.random.randn(50)+1\n", 
                "y2 = np.random.randn(50)\n", 
                "y3 = np.random.randn(50)+2\n", 
                "y4 = np.random.randn(50)-2\n", 
                "y5 = np.random.randn(50)+3\n", 
                "\n", 
                "y_data = [y0,y1,y2,y3,y4,y5]\n", 
                "\n", 
                "colors = ['rgba(93, 164, 214, 0.5)', 'rgba(255, 144, 14, 0.5)', 'rgba(44, 160, 101, 0.5)', 'rgba(255, 65, 54, 0.5)', 'rgba(207, 114, 255, 0.5)', 'rgba(127, 96, 0, 0.5)']\n", 
                "\n", 
                "traces = []\n", 
                "\n", 
                "for xd, yd, cls in zip(x_data, y_data, colors):\n", 
                "        traces.append(go.Box(\n", 
                "            y=yd,\n", 
                "            name=xd,\n", 
                "            boxpoints='all',\n", 
                "            jitter=0.5,\n", 
                "            whiskerwidth=0.2,\n", 
                "            fillcolor=cls,\n", 
                "            marker=dict(\n", 
                "                size=2,\n", 
                "            ),\n", 
                "            line=dict(width=1),\n", 
                "        ))\n", 
                "\n", 
                "layout = go.Layout(\n", 
                "    title='Points Scored by the Top 9 Scoring NBA Players in 2012',\n", 
                "    yaxis=dict(\n", 
                "        autorange=True,\n", 
                "        showgrid=True,\n", 
                "        zeroline=True,\n", 
                "        dtick=5,\n", 
                "        gridcolor='rgb(255, 255, 255)',\n", 
                "        gridwidth=1,\n", 
                "        zerolinecolor='rgb(255, 255, 255)',\n", 
                "        zerolinewidth=2,\n", 
                "    ),\n", 
                "    margin=dict(\n", 
                "        l=40,\n", 
                "        r=30,\n", 
                "        b=80,\n", 
                "        t=100,\n", 
                "    ),\n", 
                "    paper_bgcolor='rgb(243, 243, 243)',\n", 
                "    plot_bgcolor='rgb(243, 243, 243)',\n", 
                "    showlegend=False\n", 
                ")\n", 
                "\n", 
                "fig = go.Figure(data=traces, layout=layout)\n", 
                "py.iplot(fig)"
            ], 
            "cell_type": "code", 
            "metadata": {
                "collapsed": false
            }, 
            "execution_count": 9, 
            "outputs": [
                {
                    "output_type": "execute_result", 
                    "data": {
                        "text/plain": [
                            "<plotly.tools.PlotlyDisplay object>"
                        ], 
                        "text/html": [
                            "<iframe id=\"igraph\" scrolling=\"no\" style=\"border:none;\" seamless=\"seamless\" src=\"https://plot.ly/~Diksha_Gabha/601.embed\" height=\"525px\" width=\"100%\"></iframe>"
                        ]
                    }, 
                    "execution_count": 9, 
                    "metadata": {}
                }
            ]
        }, 
        {
            "source": [
                "#### Reference\n", 
                "See https://plot.ly/python/reference/#box for more information and chart attribute options!"
            ], 
            "cell_type": "markdown", 
            "metadata": {}
        }, 
        {
            "source": [], 
            "cell_type": "code", 
            "metadata": {
                "collapsed": true
            }, 
            "execution_count": null, 
            "outputs": []
        }
    ], 
    "metadata": {
        "kernelspec": {
            "display_name": "Python 2", 
            "name": "python2", 
            "language": "python"
        }, 
        "language_info": {
            "mimetype": "text/x-python", 
            "nbconvert_exporter": "python", 
            "name": "python", 
            "pygments_lexer": "ipython2", 
            "version": "2.7.10", 
            "file_extension": ".py", 
            "codemirror_mode": {
                "version": 2, 
                "name": "ipython"
            }
        }, 
        "anaconda-cloud": {}
    }
}