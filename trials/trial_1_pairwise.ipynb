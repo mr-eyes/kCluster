{
 "cells": [
  {
   "cell_type": "code",
   "execution_count": 32,
   "metadata": {},
   "outputs": [],
   "source": [
    "import pandas as pd\n",
    "from collections import Counter\n",
    "import itertools"
   ]
  },
  {
   "cell_type": "markdown",
   "metadata": {},
   "source": [
    "## Initializing the Matrix"
   ]
  },
  {
   "cell_type": "code",
   "execution_count": 54,
   "metadata": {},
   "outputs": [],
   "source": [
    "names_map = []\n",
    "with open(\"TEST_MAP.namesMap\") as namesMap:\n",
    "    for name in namesMap:\n",
    "        names_map.append(name.split()[1])\n",
    "        \n",
    "df = pd.DataFrame(0.0, columns = names_map, index=names_map)"
   ]
  },
  {
   "cell_type": "markdown",
   "metadata": {},
   "source": [
    "## Count colors and set groups"
   ]
  },
  {
   "cell_type": "code",
   "execution_count": 55,
   "metadata": {},
   "outputs": [],
   "source": [
    "groups = {}\n",
    "colors = []\n",
    "with open(\"TEST_MAP.map\") as MAP:\n",
    "    for line in MAP:\n",
    "        line = line.rstrip('\\n')\n",
    "        if \":\" in line:\n",
    "            colors.append(line.split(\":\")[1])\n",
    "        elif \"-\" in line:\n",
    "            s = line.split(\"-\")\n",
    "            groups[s[0]] = s[1].split(\",\")[:-1]\n",
    "\n",
    "colors = Counter(colors)"
   ]
  },
  {
   "cell_type": "markdown",
   "metadata": {},
   "source": [
    "## Fill the Matrix"
   ]
  },
  {
   "cell_type": "code",
   "execution_count": 56,
   "metadata": {},
   "outputs": [],
   "source": [
    "# Reverse Combination\n",
    "\n",
    "for color, tr_ids in groups.items():\n",
    "    color_count = colors[color]\n",
    "    if len(tr_ids) == 1:\n",
    "        df[tr_ids[0]][tr_ids[0]] = color_count\n",
    "\n",
    "    for combination in itertools.combinations(tr_ids,2):\n",
    "        df[combination[0]][combination[1]] += color_count\n",
    "        df[combination[1]][combination[0]] += color_count"
   ]
  },
  {
   "cell_type": "markdown",
   "metadata": {},
   "source": [
    "## Normalization"
   ]
  },
  {
   "cell_type": "code",
   "execution_count": null,
   "metadata": {},
   "outputs": [],
   "source": [
    "new_val = 0.0\n",
    "for name in itertools.combinations_with_replacement(names_map,2):\n",
    "    if name[0] == name[1]:\n",
    "        continue\n",
    "    \n",
    "    print (name)\n",
    "    \n",
    "    curr_value = df[name[0]][name[1]]\n",
    "    print (\"Current: \", curr_value)\n",
    "    \n",
    "    new_val = curr_value / min(df[name[0]][name[0]],df[name[1]][name[1]])\n",
    "    #print(new_val)\n",
    "    print (\"New: \", new_val)\n",
    "    \n",
    "    df[name[0]][name[1]] = new_val\n",
    "    df[name[1]][name[0]] = new_val"
   ]
  },
  {
   "cell_type": "code",
   "execution_count": 60,
   "metadata": {},
   "outputs": [],
   "source": [
    "for name in itertools.combinations_with_replacement(names_map,2):\n",
    "    if name[0] == name[1]:\n",
    "        df[name[1]][name[1]] = 1\n",
    "        df[name[0]][name[0]] = 1\n",
    "    else:\n",
    "        continue"
   ]
  },
  {
   "cell_type": "code",
   "execution_count": 69,
   "metadata": {},
   "outputs": [],
   "source": [
    "from scipy.cluster.hierarchy import dendrogram, linkage  \n",
    "from matplotlib import pyplot as plt\n",
    "%matplotlib inline"
   ]
  },
  {
   "cell_type": "code",
   "execution_count": 65,
   "metadata": {},
   "outputs": [],
   "source": [
    "linked = linkage(df, 'single')\n",
    "labelList = range(1, 11)\n",
    "fig = plt.figure(figsize=(25, 10))\n",
    "dn = dendrogram(linked)"
   ]
  },
  {
   "cell_type": "code",
   "execution_count": 68,
   "metadata": {},
   "outputs": [
    {
     "data": {
      "text/plain": [
       "array([[  1.        ,   7.        ,   1.35139139,   2.        ],\n",
       "       [  5.        ,   9.        ,   1.3830121 ,   3.        ],\n",
       "       [  8.        ,  10.        ,   1.383139  ,   4.        ],\n",
       "       [  2.        ,   3.        ,   1.38346979,   2.        ],\n",
       "       [  0.        ,   4.        ,   1.41421356,   2.        ],\n",
       "       [  6.        ,  13.        ,   1.41421356,   3.        ],\n",
       "       [ 12.        ,  14.        ,   1.41438064,   5.        ],\n",
       "       [ 11.        ,  15.        ,   1.41458689,   9.        ]])"
      ]
     },
     "execution_count": 68,
     "metadata": {},
     "output_type": "execute_result"
    }
   ],
   "source": [
    "linked"
   ]
  },
  {
   "cell_type": "code",
   "execution_count": 70,
   "metadata": {},
   "outputs": [
    {
     "data": {
      "image/png": "[encoded data removed]",
      "text/plain": [
       "<Figure size 720x504 with 1 Axes>"
      ]
     },
     "metadata": {
      "needs_background": "light"
     },
     "output_type": "display_data"
    }
   ],
   "source": [
    "plt.figure(figsize=(10, 7))  \n",
    "dendrogram(linked,  \n",
    "            orientation='top',\n",
    "            labels=labelList,\n",
    "            distance_sort='descending',\n",
    "            show_leaf_counts=True)\n",
    "plt.show()  "
   ]
  }
 ],
 "metadata": {
  "kernelspec": {
   "display_name": "Python 3",
   "language": "python",
   "name": "python3"
  },
  "language_info": {
   "codemirror_mode": {
    "name": "ipython",
    "version": 3
   },
   "file_extension": ".py",
   "mimetype": "text/x-python",
   "name": "python",
   "nbconvert_exporter": "python",
   "pygments_lexer": "ipython3",
   "version": "3.6.6"
  }
 },
 "nbformat": 4,
 "nbformat_minor": 2
}
